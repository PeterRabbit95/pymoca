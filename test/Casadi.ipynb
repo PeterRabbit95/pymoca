{
 "cells": [
  {
   "cell_type": "markdown",
   "metadata": {},
   "source": [
    "# CasADi demo"
   ]
  },
  {
   "cell_type": "markdown",
   "metadata": {},
   "source": [
    "## What is CasADi?"
   ]
  },
  {
   "cell_type": "markdown",
   "metadata": {},
   "source": [
    " * A tool for quick & efficient implementation of algorithms for dynamic optimization\n",
    " * Open source, LGPL-licensed,    <a href=\"http://casadi.org\">casadi.org</a>\n",
    " * C++ / C++11\n",
    " * Interfaces to Python, Haskell, (Matlab?)\n",
    " * Numerical backends: <a href=\"https://projects.coin-or.org/Ipopt\">IPOPT</a>, <a href=\"http://computation.llnl.gov/casc/sundials/main.html\">Sundials</a>, ...\n",
    " * Developers in group of Moritz Diehl:\n",
    "   * Joel Andersson\n",
    "   * Joris Gillis\n",
    "   * Greg Horn"
   ]
  },
  {
   "cell_type": "markdown",
   "metadata": {},
   "source": [
    "## Outline of demo"
   ]
  },
  {
   "cell_type": "markdown",
   "metadata": {},
   "source": [
    " * Scalar expression (SX) graphs\n",
    " * Functions of SX graphs\n",
    " * Matrices of scalar expressions\n",
    " * Automatic differentiation (AD)\n",
    " * Integrators\n",
    " * Matrix expression (MX) graphs\n",
    " * Functions of MX graphs\n",
    " * Solving an optimal control problem"
   ]
  },
  {
   "cell_type": "markdown",
   "metadata": {},
   "source": [
    "## Scalar expression (SX) graphs"
   ]
  },
  {
   "cell_type": "code",
   "execution_count": 1,
   "metadata": {},
   "outputs": [],
   "source": [
    "from pylab import *\n",
    "from casadi import *\n",
    "from casadi.tools import *\n",
    "from casadi.tools.graph import *\n",
    "%matplotlib inline"
   ]
  },
  {
   "cell_type": "code",
   "execution_count": 2,
   "metadata": {},
   "outputs": [],
   "source": [
    "x = SX.sym(\"x\")  # scalar symbolic primitives\n",
    "y = SX.sym(\"y\")\n",
    "\n",
    "z = x*sin(x+y)   # common mathematical operators"
   ]
  },
  {
   "cell_type": "code",
   "execution_count": 3,
   "metadata": {},
   "outputs": [
    {
     "name": "stdout",
     "output_type": "stream",
     "text": [
      "(x*sin((x+y)))\n"
     ]
    },
    {
     "data": {
      "text/plain": [
       "casadi.casadi.SX"
      ]
     },
     "execution_count": 3,
     "metadata": {},
     "output_type": "execute_result"
    }
   ],
   "source": [
    "print(z)\n",
    "type(z)"
   ]
  },
  {
   "cell_type": "code",
   "execution_count": 4,
   "metadata": {},
   "outputs": [
    {
     "name": "stdout",
     "output_type": "stream",
     "text": [
      "@1=(x+y), (sin(@1)+(x*cos(@1)))\n"
     ]
    }
   ],
   "source": [
    "J = jacobian(z,x)\n",
    "print(J)"
   ]
  },
  {
   "cell_type": "code",
   "execution_count": 5,
   "metadata": {},
   "outputs": [
    {
     "data": {
      "image/png": "[encoded data removed]",
      "text/plain": [
       "<matplotlib.figure.Figure at 0x7f57c7981630>"
      ]
     },
     "metadata": {},
     "output_type": "display_data"
    }
   ],
   "source": [
    "dotdraw(J,direction=\"BT\")"
   ]
  },
  {
   "cell_type": "markdown",
   "metadata": {},
   "source": [
    "> Note 1: subexpressions are shared.\n",
    ">\n",
    ">   Graph $\\leftrightarrow$ Tree\n",
    ">   \n",
    ">  Different from Maple, Matlab symbolic, sympy, ..."
   ]
  },
  {
   "cell_type": "markdown",
   "metadata": {},
   "source": [
    "A (very) little bit of Computer Algebra"
   ]
  },
  {
   "cell_type": "code",
   "execution_count": 6,
   "metadata": {},
   "outputs": [
    {
     "name": "stdout",
     "output_type": "stream",
     "text": [
      "0\n"
     ]
    }
   ],
   "source": [
    "print(x*y/x-y)"
   ]
  },
  {
   "cell_type": "code",
   "execution_count": 7,
   "metadata": {},
   "outputs": [
    {
     "name": "stdout",
     "output_type": "stream",
     "text": [
      "(SX(@1=(x+y), (cos(@1)+(cos(@1)-(x*sin(@1))))), SX(@1=(x+y), (sin(@1)+(cos(@1)*x))))\n"
     ]
    }
   ],
   "source": [
    "H = hessian(z,x)\n",
    "print(H)"
   ]
  },
  {
   "cell_type": "markdown",
   "metadata": {},
   "source": [
    "## Functions of SX graphs"
   ]
  },
  {
   "cell_type": "markdown",
   "metadata": {},
   "source": [
    "Sort graph into algorithm"
   ]
  },
  {
   "cell_type": "code",
   "execution_count": 8,
   "metadata": {},
   "outputs": [
    {
     "name": "stdout",
     "output_type": "stream",
     "text": [
      " Number of inputs: 2\n",
      "  Input 0 (\"i0\"): 1-by-1 (dense)\n",
      "  Input 1 (\"i1\"): 1-by-1 (dense)\n",
      " Number of outputs: 1\n",
      "  Output 0 (\"o0\"): 1-by-1 (dense)\n",
      "@0 = input[0][0];\n",
      "@1 = input[1][0];\n",
      "@1 = (@0+@1);\n",
      "@1 = sin(@1);\n",
      "@0 = (@0*@1);\n",
      "output[0][0] = @0;\n",
      "\n"
     ]
    }
   ],
   "source": [
    "f = Function(\"f\",[x,y],[z])\n",
    "\n",
    "print(f)"
   ]
  },
  {
   "cell_type": "markdown",
   "metadata": {},
   "source": [
    "> Note 2: re-use of tape variables: live-variables"
   ]
  },
  {
   "cell_type": "code",
   "execution_count": 9,
   "metadata": {},
   "outputs": [
    {
     "name": "stdout",
     "output_type": "stream",
     "text": [
      "-1.19243\n"
     ]
    }
   ],
   "source": [
    "print(f(1.2,3.4))"
   ]
  },
  {
   "cell_type": "code",
   "execution_count": 10,
   "metadata": {},
   "outputs": [
    {
     "name": "stdout",
     "output_type": "stream",
     "text": [
      "@1=1.2, (@1*sin((@1+(x+y))))\n"
     ]
    }
   ],
   "source": [
    "print(f(1.2,x+y))"
   ]
  },
  {
   "cell_type": "code",
   "execution_count": 11,
   "metadata": {},
   "outputs": [
    {
     "data": {
      "text/plain": [
       "'f.c'"
      ]
     },
     "execution_count": 11,
     "metadata": {},
     "output_type": "execute_result"
    }
   ],
   "source": [
    "f.generate(\"f.c\")"
   ]
  },
  {
   "cell_type": "code",
   "execution_count": 12,
   "metadata": {},
   "outputs": [
    {
     "name": "stdout",
     "output_type": "stream",
     "text": [
      "/* This function was automatically generated by CasADi */\r\n",
      "#ifdef __cplusplus\r\n",
      "extern \"C\" {\r\n",
      "#endif\r\n",
      "\r\n",
      "#ifdef CODEGEN_PREFIX\r\n",
      "  #define NAMESPACE_CONCAT(NS, ID) _NAMESPACE_CONCAT(NS, ID)\r\n",
      "  #define _NAMESPACE_CONCAT(NS, ID) NS ## ID\r\n",
      "  #define CASADI_PREFIX(ID) NAMESPACE_CONCAT(CODEGEN_PREFIX, ID)\r\n",
      "#else /* CODEGEN_PREFIX */\r\n",
      "  #define CASADI_PREFIX(ID) f_ ## ID\r\n",
      "#endif /* CODEGEN_PREFIX */\r\n",
      "\r\n",
      "#include <math.h>\r\n",
      "\r\n",
      "#ifndef real_t\r\n",
      "#define real_t double\r\n",
      "#endif /* real_t */\r\n",
      "\r\n",
      "#define to_double(x) (double) x\r\n",
      "#define to_int(x) (int) x\r\n",
      "/* Pre-c99 compatibility */\r\n",
      "#if __STDC_VERSION__ < 199901L\r\n",
      "real_t CASADI_PREFIX(fmin)(real_t x, real_t y) { return x<y ? x : y;}\r\n",
      "#define fmin(x,y) CASADI_PREFIX(fmin)(x,y)\r\n",
      "real_t CASADI_PREFIX(fmax)(real_t x, real_t y) { return x>y ? x : y;}\r\n",
      "#define fmax(x,y) CASADI_PREFIX(fmax)(x,y)\r\n",
      "#endif\r\n",
      "\r\n",
      "#define PRINTF printf\r\n",
      "real_t CASADI_PREFIX(sq)(real_t x) { return x*x;}\r\n",
      "#define sq(x) CASADI_PREFIX(sq)(x)\r\n",
      "\r\n",
      "real_t CASADI_PREFIX(sign)(real_t x) { return x<0 ? -1 : x>0 ? 1 : x;}\r\n",
      "#define sign(x) CASADI_PREFIX(sign)(x)\r\n",
      "\r\n",
      "static const int CASADI_PREFIX(s0)[5] = {1, 1, 0, 1, 0};\r\n",
      "#define s0 CASADI_PREFIX(s0)\r\n",
      "/* f */\r\n",
      "int f(const real_t** arg, real_t** res, int* iw, real_t* w, int mem) {\r\n",
      "  real_t a0=arg[0] ? arg[0][0] : 0;\r\n",
      "  real_t a1=arg[1] ? arg[1][0] : 0;\r\n",
      "  a1=(a0+a1);\r\n",
      "  a1=sin(a1);\r\n",
      "  a0=(a0*a1);\r\n",
      "  if (res[0]!=0) res[0][0]=a0;\r\n",
      "  return 0;\r\n",
      "}\r\n",
      "\r\n",
      "void f_incref(void) {\r\n",
      "}\r\n",
      "\r\n",
      "void f_decref(void) {\r\n",
      "}\r\n",
      "\r\n",
      "int f_n_in(void) { return 2;}\r\n",
      "\r\n",
      "int f_n_out(void) { return 1;}\r\n",
      "\r\n",
      "const char* f_name_in(int i){\r\n",
      "  switch (i) {\r\n",
      "  case 0: return \"i0\";\r\n",
      "  case 1: return \"i1\";\r\n",
      "  default: return 0;\r\n",
      "  }\r\n",
      "}\r\n",
      "\r\n",
      "const char* f_name_out(int i){\r\n",
      "  switch (i) {\r\n",
      "  case 0: return \"o0\";\r\n",
      "  default: return 0;\r\n",
      "  }\r\n",
      "}\r\n",
      "\r\n",
      "const int* f_sparsity_in(int i) {\r\n",
      "  switch (i) {\r\n",
      "  case 0: return s0;\r\n",
      "  case 1: return s0;\r\n",
      "  default: return 0;\r\n",
      "  }\r\n",
      "}\r\n",
      "\r\n",
      "const int* f_sparsity_out(int i) {\r\n",
      "  switch (i) {\r\n",
      "  case 0: return s0;\r\n",
      "  default: return 0;\r\n",
      "  }\r\n",
      "}\r\n",
      "\r\n",
      "int f_work(int *sz_arg, int* sz_res, int *sz_iw, int *sz_w) {\r\n",
      "  if (sz_arg) *sz_arg = 2;\r\n",
      "  if (sz_res) *sz_res = 1;\r\n",
      "  if (sz_iw) *sz_iw = 0;\r\n",
      "  if (sz_w) *sz_w = 2;\r\n",
      "  return 0;\r\n",
      "}\r\n",
      "\r\n",
      "\r\n",
      "#ifdef __cplusplus\r\n",
      "} /* extern \"C\" */\r\n",
      "#endif\r\n"
     ]
    }
   ],
   "source": [
    "!cat f.c"
   ]
  },
  {
   "cell_type": "markdown",
   "metadata": {},
   "source": [
    "## Matrices of scalar expressions"
   ]
  },
  {
   "cell_type": "code",
   "execution_count": 13,
   "metadata": {},
   "outputs": [
    {
     "name": "stdout",
     "output_type": "stream",
     "text": [
      "\n",
      "[[A_0, A_3, A_6], \n",
      " [A_1, A_4, A_7], \n",
      " [A_2, A_5, A_8]]\n"
     ]
    }
   ],
   "source": [
    "A = SX.sym(\"A\",3,3)\n",
    "B = SX.sym(\"B\",3)\n",
    "print(A)"
   ]
  },
  {
   "cell_type": "code",
   "execution_count": 14,
   "metadata": {},
   "outputs": [
    {
     "name": "stdout",
     "output_type": "stream",
     "text": [
      "@1=(((A_0*((A_4*A_8)-(A_7*A_5)))-(A_3*((A_1*A_8)-(A_7*A_2))))+(A_6*((A_1*A_5)-(A_4*A_2)))), [((((((A_4*A_8)-(A_7*A_5))/@1)*B_0)-((((A_3*A_8)-(A_6*A_5))/@1)*B_1))+((((A_3*A_7)-(A_6*A_4))/@1)*B_2)), ((((((A_0*A_8)-(A_6*A_2))/@1)*B_1)-((((A_1*A_8)-(A_7*A_2))/@1)*B_0))-((((A_0*A_7)-(A_6*A_1))/@1)*B_2)), ((((((A_1*A_5)-(A_4*A_2))/@1)*B_0)-((((A_0*A_5)-(A_3*A_2))/@1)*B_1))+((((A_0*A_4)-(A_3*A_1))/@1)*B_2))]\n"
     ]
    }
   ],
   "source": [
    "print(solve(A,B))"
   ]
  },
  {
   "cell_type": "code",
   "execution_count": 15,
   "metadata": {},
   "outputs": [
    {
     "name": "stdout",
     "output_type": "stream",
     "text": [
      "((A_0+A_4)+A_8)\n"
     ]
    }
   ],
   "source": [
    "print(trace(A))   # Trace"
   ]
  },
  {
   "cell_type": "code",
   "execution_count": 16,
   "metadata": {},
   "outputs": [
    {
     "name": "stdout",
     "output_type": "stream",
     "text": [
      "[(((A_0*B_0)+(A_3*B_1))+(A_6*B_2)), (((A_1*B_0)+(A_4*B_1))+(A_7*B_2)), (((A_2*B_0)+(A_5*B_1))+(A_8*B_2))]\n"
     ]
    }
   ],
   "source": [
    "print(mtimes(A,B))   # Matrix multiplication"
   ]
  },
  {
   "cell_type": "code",
   "execution_count": 17,
   "metadata": {},
   "outputs": [
    {
     "name": "stdout",
     "output_type": "stream",
     "text": [
      "sqrt(((((((((sq(A_0)+sq(A_1))+sq(A_2))+sq(A_3))+sq(A_4))+sq(A_5))+sq(A_6))+sq(A_7))+sq(A_8)))\n"
     ]
    }
   ],
   "source": [
    "print(norm_fro(A))  # Frobenius norm"
   ]
  },
  {
   "cell_type": "code",
   "execution_count": 18,
   "metadata": {},
   "outputs": [
    {
     "name": "stdout",
     "output_type": "stream",
     "text": [
      "[[A_2, A_5, A_8]]\n"
     ]
    }
   ],
   "source": [
    "print(A[2,:])     # Slicing"
   ]
  },
  {
   "cell_type": "markdown",
   "metadata": {},
   "source": [
    "> Rule 1: Everything is a matrix"
   ]
  },
  {
   "cell_type": "code",
   "execution_count": 19,
   "metadata": {},
   "outputs": [
    {
     "name": "stdout",
     "output_type": "stream",
     "text": [
      "(3, 3) (1, 1)\n"
     ]
    }
   ],
   "source": [
    "print(A.shape, z.shape)"
   ]
  },
  {
   "cell_type": "code",
   "execution_count": 20,
   "metadata": {},
   "outputs": [
    {
     "name": "stdout",
     "output_type": "stream",
     "text": [
      "@1=1, \n",
      "[[@1, 00, 00], \n",
      " [00, @1, 00], \n",
      " [00, 00, @1]]\n"
     ]
    }
   ],
   "source": [
    "I = SX.eye(3)\n",
    "print(I)"
   ]
  },
  {
   "cell_type": "code",
   "execution_count": 21,
   "metadata": {},
   "outputs": [
    {
     "name": "stdout",
     "output_type": "stream",
     "text": [
      "\n",
      "[[A_0, A_3, A_6, 00, 00, 00, 00, 00, 00], \n",
      " [A_1, A_4, A_7, 00, 00, 00, 00, 00, 00], \n",
      " [A_2, A_5, A_8, 00, 00, 00, 00, 00, 00], \n",
      " [00, 00, 00, A_0, A_3, A_6, 00, 00, 00], \n",
      " [00, 00, 00, A_1, A_4, A_7, 00, 00, 00], \n",
      " [00, 00, 00, A_2, A_5, A_8, 00, 00, 00], \n",
      " [00, 00, 00, 00, 00, 00, A_0, A_3, A_6], \n",
      " [00, 00, 00, 00, 00, 00, A_1, A_4, A_7], \n",
      " [00, 00, 00, 00, 00, 00, A_2, A_5, A_8]]\n"
     ]
    }
   ],
   "source": [
    "Ak = kron(I,A)\n",
    "print(Ak)"
   ]
  },
  {
   "cell_type": "markdown",
   "metadata": {},
   "source": [
    "> Rule 1: Everything is a sparse matrix"
   ]
  },
  {
   "cell_type": "code",
   "execution_count": 22,
   "metadata": {},
   "outputs": [
    {
     "name": "stdout",
     "output_type": "stream",
     "text": [
      "***......\n",
      "***......\n",
      "***......\n",
      "...***...\n",
      "...***...\n",
      "...***...\n",
      "......***\n",
      "......***\n",
      "......***\n"
     ]
    }
   ],
   "source": [
    "Ak.sparsity().spy()"
   ]
  },
  {
   "cell_type": "code",
   "execution_count": 23,
   "metadata": {},
   "outputs": [
    {
     "name": "stdout",
     "output_type": "stream",
     "text": [
      "***\n",
      "***\n",
      "***\n"
     ]
    }
   ],
   "source": [
    "A.sparsity().spy()"
   ]
  },
  {
   "cell_type": "code",
   "execution_count": 24,
   "metadata": {},
   "outputs": [
    {
     "name": "stdout",
     "output_type": "stream",
     "text": [
      "*\n"
     ]
    }
   ],
   "source": [
    "z.sparsity().spy()"
   ]
  },
  {
   "cell_type": "markdown",
   "metadata": {},
   "source": [
    "## Automatic differentiation (AD)"
   ]
  },
  {
   "cell_type": "markdown",
   "metadata": {},
   "source": [
    "Consider an ode:\n",
    "\n",
    "\\begin{equation}\n",
    "\\dot{p} = (1 - q^2)p-q+u\n",
    "\\end{equation}\n",
    "\\begin{equation}\n",
    "\\dot{q} = p\n",
    "\\end{equation}\n",
    "\\begin{equation}\n",
    "\\dot{c} = p^2+q^2+u^2\n",
    "\\end{equation}"
   ]
  },
  {
   "cell_type": "code",
   "execution_count": 25,
   "metadata": {},
   "outputs": [],
   "source": [
    "t = SX.sym(\"t\")    # time\n",
    "u = SX.sym(\"u\")    # control\n",
    "p = SX.sym(\"p\")\n",
    "q = SX.sym(\"q\")\n",
    "c = SX.sym(\"c\")\n",
    "x = vertcat(p,q,c) # state"
   ]
  },
  {
   "cell_type": "code",
   "execution_count": 26,
   "metadata": {},
   "outputs": [
    {
     "name": "stdout",
     "output_type": "stream",
     "text": [
      "[((((1-sq(q))*p)-q)+u), p, ((sq(p)+sq(q))+sq(u))] (3, 1)\n"
     ]
    }
   ],
   "source": [
    "ode = vertcat((1 - q**2)*p - q + u, p, p**2+q**2+u**2)\n",
    "print(ode, ode.shape)"
   ]
  },
  {
   "cell_type": "code",
   "execution_count": 27,
   "metadata": {},
   "outputs": [
    {
     "name": "stdout",
     "output_type": "stream",
     "text": [
      "@1=1, \n",
      "[[(@1-sq(q)), (-1-(p*(q+q))), 00], \n",
      " [@1, 00, 00], \n",
      " [(p+p), (q+q), 00]]\n"
     ]
    }
   ],
   "source": [
    "J = jacobian(ode,x)\n",
    "print(J)"
   ]
  },
  {
   "cell_type": "code",
   "execution_count": 28,
   "metadata": {},
   "outputs": [
    {
     "name": "stdout",
     "output_type": "stream",
     "text": [
      "***********f************ || ************ffwd************ || ************fadj************\n",
      " Number of inputs: 3     ||  Number of inputs: 7         ||  Number of inputs: 5        \n",
      "  0 (\"i0\"): 1-by-1 (dense) ||   0 (\"der_i0\"): 1-by-1 (dense) ||   0 (\"der_i0\"): 1-by-1 (dense)\n",
      "  1 (\"i1\"): 1-by-1 (dense) ||   1 (\"der_i1\"): 1-by-1 (dense) ||   1 (\"der_i1\"): 1-by-1 (dense)\n",
      "  2 (\"i2\"): 3-by-1 (dense) ||   2 (\"der_i2\"): 3-by-1 (dense) ||   2 (\"der_i2\"): 3-by-1 (dense)\n",
      " Number of outputs: 1    ||   3 (\"der_o0\"): 3-by-1 (0/3 nz) ||   3 (\"der_o0\"): 3-by-1 (0/3 nz)\n",
      "  0 (\"o0\"): 3-by-1 (dense) ||   4 (\"fwd0_i0\"): 1-by-1 (dense) ||   4 (\"adj0_o0\"): 3-by-1 (dense)\n",
      "@0 = input[2][1];        ||   5 (\"fwd0_i1\"): 1-by-1 (dense) ||  Number of outputs: 3       \n",
      "@1 = sq(@0);             ||   6 (\"fwd0_i2\"): 3-by-1 (dense) ||   0 (\"adj0_i0\"): 1-by-1 (dense)\n",
      "@2 = 1;                  ||  Number of outputs: 1        ||   1 (\"adj0_i1\"): 1-by-1 (dense)\n",
      "@2 = (@2-@1);            ||   0 (\"fwd0_o0\"): 3-by-1 (dense) ||   2 (\"adj0_i2\"): 3-by-1 (dense)\n",
      "@1 = input[2][0];        || @0 = input[0][0]             || @0 = input[0][0]            \n",
      "@2 = (@2*@1);            || @1 = input[1][0]             || @1 = input[1][0]            \n",
      "@2 = (@2-@0);            || @2 = input[2][0]             || @2 = input[2][0]            \n",
      "@3 = input[1][0];        || @3 = ones(3x1, 0 nnz)        || @3 = ones(3x1, 0 nnz)       \n",
      "@2 = (@2+@3);            || @4 = input[4][0]             || @4 = input[4][0]            \n",
      "output[0][0] = @2;       || @5 = input[5][0]             || {@5, @6, @7} = adj1_f(@0, @1, @2, @3, @4)\n",
      "output[0][1] = @1;       || @6 = input[6][0]             || output[0] = @5              \n",
      "@1 = sq(@1);             || @7 = fwd1_f(@0, @1, @2, @3, @4, @5, @6) || output[1] = @6              \n",
      "@0 = sq(@0);             || output[0] = @7               || output[2] = @7              \n",
      "@1 = (@1+@0);            ||                              ||                             \n"
     ]
    }
   ],
   "source": [
    "f = Function(\"f\",[t,u,x],[ode])\n",
    "\n",
    "ffwd = f.forward(1)\n",
    "\n",
    "fadj = f.reverse(1)\n",
    "\n",
    "# side-by-side printing\n",
    "print('{:*^24} || {:*^28} || {:*^28}'.format(\"f\", \"ffwd\", \"fadj\"))\n",
    "def short(f):\n",
    "    import re\n",
    "    return re.sub(r\", a\\.k\\.a\\. \\\"(\\w+)\\\"\",r\". \\1\",str(f).replace(\", No description available\",\"\").replace(\"Input \",\"\").replace(\"Output \",\"\"))\n",
    "for l in zip(short(f).split(\"\\n\"),short(ffwd).split(\"\\n\"),short(fadj).split(\"\\n\")):\n",
    "  print('{:<24} || {:<28} || {:<28}'.format(*l))"
   ]
  },
  {
   "cell_type": "markdown",
   "metadata": {},
   "source": [
    "Performing **forward sweeps** gives the **columns** of J"
   ]
  },
  {
   "cell_type": "code",
   "execution_count": 29,
   "metadata": {},
   "outputs": [
    {
     "name": "stdout",
     "output_type": "stream",
     "text": [
      "@1=1, \n",
      "[[@1, 00, 00], \n",
      " [00, @1, 00], \n",
      " [00, 00, @1]]\n"
     ]
    }
   ],
   "source": [
    "print(I)"
   ]
  },
  {
   "cell_type": "code",
   "execution_count": 30,
   "metadata": {},
   "outputs": [
    {
     "name": "stdout",
     "output_type": "stream",
     "text": [
      "@1=1, [(@1-sq(q)), @1, (p+p)]\n",
      "[(-((p*(q+q))+1)), 0, (q+q)]\n",
      "@1=0, [@1, @1, @1]\n"
     ]
    }
   ],
   "source": [
    "for i in range(3):\n",
    "  print(ffwd(t,u,x, ode, 0,0,I[:,i]))"
   ]
  },
  {
   "cell_type": "code",
   "execution_count": 31,
   "metadata": {},
   "outputs": [
    {
     "name": "stdout",
     "output_type": "stream",
     "text": [
      "@1=1, \n",
      "[[(@1-sq(q)), (-1-(p*(q+q))), 00], \n",
      " [@1, 00, 00], \n",
      " [(p+p), (q+q), 00]]\n"
     ]
    }
   ],
   "source": [
    "print(J)"
   ]
  },
  {
   "cell_type": "markdown",
   "metadata": {},
   "source": [
    "Performing **adjoint sweeps** gives the **rows** of J"
   ]
  },
  {
   "cell_type": "code",
   "execution_count": 32,
   "metadata": {},
   "outputs": [
    {
     "name": "stdout",
     "output_type": "stream",
     "text": [
      "[(1-sq(q)), (-1-((q+q)*p)), 0]\n",
      "@1=0, [1, @1, @1]\n",
      "[(p+p), (q+q), 0]\n"
     ]
    }
   ],
   "source": [
    "for i in range(3):\n",
    "  print(fadj(t,u,x, ode, I[:,i])[2])"
   ]
  },
  {
   "cell_type": "markdown",
   "metadata": {},
   "source": [
    "Often, you can do better than slicing with unit vectors\n",
    "\n",
    "> Note 3: CasADi does graph coloring for efficient sparse jacobians"
   ]
  },
  {
   "cell_type": "markdown",
   "metadata": {},
   "source": [
    "## Integrators"
   ]
  },
  {
   "cell_type": "markdown",
   "metadata": {},
   "source": [
    "$\\dot{x}=f(x,u,t)$ with $x = [p,q,c]^T$"
   ]
  },
  {
   "cell_type": "code",
   "execution_count": 33,
   "metadata": {},
   "outputs": [],
   "source": [
    "f = {'x':x,'t':t,'p':u,'ode':ode}"
   ]
  },
  {
   "cell_type": "markdown",
   "metadata": {},
   "source": [
    "Construct an integrating block $x_{k+1} = \\Phi(f;\\Delta t;x_k,u_k)$"
   ]
  },
  {
   "cell_type": "code",
   "execution_count": 34,
   "metadata": {},
   "outputs": [],
   "source": [
    "tf = 10.0\n",
    "N = 20\n",
    "dt = tf/N"
   ]
  },
  {
   "cell_type": "code",
   "execution_count": 35,
   "metadata": {},
   "outputs": [
    {
     "name": "stdout",
     "output_type": "stream",
     "text": [
      "{'rxf': DM([]), 'rzf': DM([]), 'qf': DM([]), 'xf': DM([-0.494019, 0.876097, 0.500982]), 'zf': DM([]), 'rqf': DM([])}\n"
     ]
    }
   ],
   "source": [
    "Phi = integrator(\"Phi\",\"cvodes\",f,{\"tf\":dt})\n",
    "\n",
    "x0 = DM([0,1,0])\n",
    "\n",
    "print(Phi(x0=x0))"
   ]
  },
  {
   "cell_type": "code",
   "execution_count": 36,
   "metadata": {},
   "outputs": [],
   "source": [
    "x = x0\n",
    "xs = [x]\n",
    "\n",
    "for i in range(N):\n",
    "  x = Phi(x0=x)[\"xf\"]\n",
    "  \n",
    "  xs.append(x)"
   ]
  },
  {
   "cell_type": "code",
   "execution_count": 37,
   "metadata": {},
   "outputs": [
    {
     "data": {
      "text/plain": [
       "<matplotlib.legend.Legend at 0x7f57e12d8128>"
      ]
     },
     "execution_count": 37,
     "metadata": {},
     "output_type": "execute_result"
    },
    {
     "data": {
      "image/png": "[encoded data removed]",
      "text/plain": [
       "<matplotlib.figure.Figure at 0x7f57e12d5198>"
      ]
     },
     "metadata": {},
     "output_type": "display_data"
    }
   ],
   "source": [
    "plot(horzcat(*xs).T)\n",
    "legend([\"p\",\"q\",\"c\"])"
   ]
  },
  {
   "cell_type": "markdown",
   "metadata": {},
   "source": [
    "> Rule 2: Everything is a Function  (see http://docs.casadi.org)"
   ]
  },
  {
   "cell_type": "markdown",
   "metadata": {},
   "source": [
    "## Matrix expression (MX) graphs"
   ]
  },
  {
   "cell_type": "markdown",
   "metadata": {},
   "source": [
    "> Note 4: this is what makes CasADi stand out among AD tools"
   ]
  },
  {
   "cell_type": "markdown",
   "metadata": {},
   "source": [
    "Recall"
   ]
  },
  {
   "cell_type": "code",
   "execution_count": 38,
   "metadata": {},
   "outputs": [
    {
     "name": "stdout",
     "output_type": "stream",
     "text": [
      "\n",
      "[[(((A_0*B_0)+(A_3*B_1))+(A_6*B_2)), (((A_0*B_3)+(A_3*B_4))+(A_6*B_5)), (((A_0*B_6)+(A_3*B_7))+(A_6*B_8))], \n",
      " [(((A_1*B_0)+(A_4*B_1))+(A_7*B_2)), (((A_1*B_3)+(A_4*B_4))+(A_7*B_5)), (((A_1*B_6)+(A_4*B_7))+(A_7*B_8))], \n",
      " [(((A_2*B_0)+(A_5*B_1))+(A_8*B_2)), (((A_2*B_3)+(A_5*B_4))+(A_8*B_5)), (((A_2*B_6)+(A_5*B_7))+(A_8*B_8))]]\n"
     ]
    },
    {
     "data": {
      "image/png": "[encoded data removed]",
      "text/plain": [
       "<matplotlib.figure.Figure at 0x7f57e122b780>"
      ]
     },
     "metadata": {},
     "output_type": "display_data"
    }
   ],
   "source": [
    "n = 3\n",
    "\n",
    "A = SX.sym(\"A\",n,n)\n",
    "B = SX.sym(\"B\",n,n)\n",
    "C = mtimes(A,B)\n",
    "print(C)\n",
    "dotdraw(C,direction='BT')"
   ]
  },
  {
   "cell_type": "markdown",
   "metadata": {},
   "source": [
    "What if you **don't want** to expand into scalar operations?  ( avoid $O(n^3)$ storage)"
   ]
  },
  {
   "cell_type": "code",
   "execution_count": 39,
   "metadata": {},
   "outputs": [
    {
     "name": "stdout",
     "output_type": "stream",
     "text": [
      "mac(A,B,zeros(3x3, dense))\n"
     ]
    }
   ],
   "source": [
    "A = MX.sym(\"A\",n,n)\n",
    "B = MX.sym(\"B\",n,n)\n",
    "C = mtimes(A,B)\n",
    "print(C)\n",
    "#dotdraw(C,direction='BT')"
   ]
  },
  {
   "cell_type": "markdown",
   "metadata": {},
   "source": [
    "What if you **cannot** expand into matrix operations?  ( numerical algorithm )"
   ]
  },
  {
   "cell_type": "code",
   "execution_count": 40,
   "metadata": {},
   "outputs": [
    {
     "name": "stdout",
     "output_type": "stream",
     "text": [
      "(A\\B)\n"
     ]
    },
    {
     "data": {
      "image/png": "[encoded data removed]",
      "text/plain": [
       "<matplotlib.figure.Figure at 0x7f57e12d5f60>"
      ]
     },
     "metadata": {},
     "output_type": "display_data"
    }
   ],
   "source": [
    "C = solve(A,B)\n",
    "print(C)\n",
    "dotdraw(C,direction='BT')"
   ]
  },
  {
   "cell_type": "code",
   "execution_count": 41,
   "metadata": {},
   "outputs": [
    {
     "name": "stdout",
     "output_type": "stream",
     "text": [
      "Phi(x, 0, 0x1, 0x1, 0x1, 0x1){0}\n"
     ]
    }
   ],
   "source": [
    "X0 = MX.sym(\"x\",3)\n",
    "\n",
    "XF = Phi(x0=X0)[\"xf\"]\n",
    "print(XF)"
   ]
  },
  {
   "cell_type": "code",
   "execution_count": 42,
   "metadata": {},
   "outputs": [],
   "source": [
    "expr = sin(XF)+X0\n",
    "#dotdraw(expr,direction='BT')"
   ]
  },
  {
   "cell_type": "markdown",
   "metadata": {},
   "source": [
    "## Functions of MX graphs"
   ]
  },
  {
   "cell_type": "code",
   "execution_count": 43,
   "metadata": {},
   "outputs": [
    {
     "name": "stdout",
     "output_type": "stream",
     "text": [
      " Number of inputs: 1\n",
      "  Input 0 (\"i0\"): 3-by-1 (dense)\n",
      " Number of outputs: 1\n",
      "  Output 0 (\"o0\"): 3-by-1 (dense)\n",
      "@0 = input[0][0]\n",
      "@1 = 0\n",
      "@2 = 0x1\n",
      "@3 = 0x1\n",
      "@4 = 0x1\n",
      "@5 = 0x1\n",
      "{@6, NULL, NULL, NULL, NULL, NULL} = Phi(@0, @1, @2, @3, @4, @5)\n",
      "@6 = sin(@6)\n",
      "@6 = (@6+@0)\n",
      "output[0] = @6\n",
      "\n"
     ]
    }
   ],
   "source": [
    "F = Function(\"F\",[X0],[  expr  ])\n",
    "print(F)"
   ]
  },
  {
   "cell_type": "code",
   "execution_count": 44,
   "metadata": {},
   "outputs": [
    {
     "name": "stdout",
     "output_type": "stream",
     "text": [
      "[-0.474168, 1.76825, 0.480287]\n"
     ]
    }
   ],
   "source": [
    "print(F(x0))"
   ]
  },
  {
   "cell_type": "code",
   "execution_count": 45,
   "metadata": {},
   "outputs": [
    {
     "name": "stdout",
     "output_type": "stream",
     "text": [
      "(DM(\n",
      "[[1.87245, -0.239128, 1.37301e-09], \n",
      " [0.316248, 1.5856, 7.92959e-10], \n",
      " [-0.0101749, 0.861809, 1.87711]]), DM([-0.474168, 1.76825, 0.480287]))\n"
     ]
    }
   ],
   "source": [
    "J = F.jacobian()\n",
    "\n",
    "print(J(x0))"
   ]
  },
  {
   "cell_type": "markdown",
   "metadata": {},
   "source": [
    "This shows how an integrator-call can be embedded in matrix graph.\n",
    "\n",
    "More possibilities:  external compiled library, a call to Matlab/Scipy"
   ]
  },
  {
   "cell_type": "markdown",
   "metadata": {},
   "source": [
    "## Solving an optimal control problem"
   ]
  },
  {
   "cell_type": "markdown",
   "metadata": {},
   "source": [
    "\\begin{equation}\n",
    "\\begin{array}{cl}\n",
    "\\underset{p(.),q(.),u(.)}{\\text{minimize}}  & \\displaystyle \\int_{0}^{T}{ p(t)^2 + q(t)^2 + u(t)^2 dt} \\\\\\\\\n",
    "\\text{subject to}\n",
    "& \\dot{p} = (1 - q^2)p-q+u   \\\\\\\\\n",
    "& \\dot{q} = p \\\\\\\\\n",
    "& p(0) = 0, q(0) = 1 \\\\\\\\\n",
    "&-1 \\le u(t) \\le 1\n",
    "\\end{array}\n",
    "\\end{equation}"
   ]
  },
  {
   "cell_type": "markdown",
   "metadata": {},
   "source": [
    "\n",
    "\n",
    "Remember, $\\dot{x}=f(x,u,t)$ with $x = [p,q,c]^T$\n",
    "\n",
    "\\begin{equation}\n",
    "\\begin{array}{cl}\n",
    "\\underset{x(.),u(.)}{\\text{minimize}}  & c(T) \\\\\\\\\n",
    "\\text{subject to}\n",
    "& \\dot{x} = f(x,u) \\\\\\\\\n",
    "& p(0) = 0, q(0) = 1, c(0)= 0 \\\\\\\\\n",
    "&-1 \\le u(t) \\le 1\n",
    "\\end{array}\n",
    "\\end{equation}"
   ]
  },
  {
   "cell_type": "markdown",
   "metadata": {},
   "source": [
    "Discretization with multiple shooting\n",
    "\n",
    "\\begin{equation}\n",
    "\\begin{array}{cl}\n",
    "\\underset{x_{\\bullet},u_{\\bullet}}{\\text{minimize}}  & c_N \\\\\\\\\n",
    "\\text{subject to}\n",
    "& x_{k+1} - \\Phi(x_k,u_k) = 0 , \\quad \\quad k = 0,1,\\ldots, (N-1) \\\\\\\\\n",
    "& p_0 = 0, q_0 = 1, c_0 = 0 \\\\\\\\\n",
    "&-1 \\le u_k \\le 1  , \\quad \\quad k = 0,1,\\ldots, (N-1) \n",
    "\\end{array}\n",
    "\\end{equation}"
   ]
  },
  {
   "cell_type": "markdown",
   "metadata": {},
   "source": [
    "Cast as NLP\n",
    "\n",
    "\\begin{equation}\n",
    "\\begin{array}{cl}\n",
    "\\underset{X}{\\text{minimize}}  & F(X,P) \\\\\\\\\n",
    "\\text{subject to}\n",
    "& \\text{lbx} \\le X \\le \\text{ubx} \\\\\\\\\n",
    "& \\text{lbg} \\le G(X,P) \\le \\text{ubg} \\\\\\\\\n",
    "\\end{array}\n",
    "\\end{equation}"
   ]
  },
  {
   "cell_type": "code",
   "execution_count": 46,
   "metadata": {},
   "outputs": [],
   "source": [
    "X = struct_symMX([\n",
    "     (\n",
    "      entry(\"x\", repeat=N+1, struct=struct([\"p\",\"q\",\"c\"]) ),\n",
    "      entry(\"u\", repeat=N)\n",
    "     )\n",
    "    ])"
   ]
  },
  {
   "cell_type": "markdown",
   "metadata": {},
   "source": [
    "X is a symbolic matrix primitive, but with fancier indexing"
   ]
  },
  {
   "cell_type": "code",
   "execution_count": 47,
   "metadata": {},
   "outputs": [
    {
     "name": "stdout",
     "output_type": "stream",
     "text": [
      "(83, 1)\n",
      "83\n"
     ]
    }
   ],
   "source": [
    "print(X.shape)\n",
    "print((N+1)*3+N)"
   ]
  },
  {
   "cell_type": "markdown",
   "metadata": {},
   "source": [
    "Demo: $\\Phi(x_0,u_0)$"
   ]
  },
  {
   "cell_type": "code",
   "execution_count": 48,
   "metadata": {},
   "outputs": [
    {
     "name": "stdout",
     "output_type": "stream",
     "text": [
      "@1=vertsplit(V), Phi(@1{0}, @1{1}, 0x1, 0x1, 0x1, 0x1){0}\n"
     ]
    }
   ],
   "source": [
    "Xf = Phi( x0=X[\"x\",0],p=X[\"u\",0] )[\"xf\"]\n",
    "\n",
    "print(Xf)"
   ]
  },
  {
   "cell_type": "markdown",
   "metadata": {},
   "source": [
    "$ x_{k+1} - \\Phi(x_k,u_k) = 0 , \\quad \\quad k = 0,1,\\ldots, (N-1)$"
   ]
  },
  {
   "cell_type": "code",
   "execution_count": 49,
   "metadata": {},
   "outputs": [],
   "source": [
    "g = [] # List of constraint expressions\n",
    "\n",
    "for k in range(N):\n",
    "  Xf = Phi( x0=X[\"x\",k],p=X[\"u\",k] )[\"xf\"]\n",
    "  g.append( X[\"x\",k+1]-Xf )"
   ]
  },
  {
   "cell_type": "code",
   "execution_count": 50,
   "metadata": {},
   "outputs": [
    {
     "name": "stdout",
     "output_type": "stream",
     "text": [
      "{'x': <casadi.tools.structure3.msymStruct object at 0x7f57d485b7f0>, 'f': MX(vertsplit(vertsplit(V){40}){2}), 'g': MX(@1=vertsplit(V), @2=@1{2}, @3=@1{4}, @4=@1{6}, @5=@1{8}, @6=@1{10}, @7=@1{12}, @8=@1{14}, @9=@1{16}, @10=@1{18}, @11=@1{20}, @12=@1{22}, @13=@1{24}, @14=@1{26}, @15=@1{28}, @16=@1{30}, @17=@1{32}, @18=@1{34}, @19=@1{36}, @20=@1{38}, vertcat((@2-Phi(@1{0}, @1{1}, 0x1, 0x1, 0x1, 0x1){0}), (@3-Phi(@2, @1{3}, 0x1, 0x1, 0x1, 0x1){0}), (@4-Phi(@3, @1{5}, 0x1, 0x1, 0x1, 0x1){0}), (@5-Phi(@4, @1{7}, 0x1, 0x1, 0x1, 0x1){0}), (@6-Phi(@5, @1{9}, 0x1, 0x1, 0x1, 0x1){0}), (@7-Phi(@6, @1{11}, 0x1, 0x1, 0x1, 0x1){0}), (@8-Phi(@7, @1{13}, 0x1, 0x1, 0x1, 0x1){0}), (@9-Phi(@8, @1{15}, 0x1, 0x1, 0x1, 0x1){0}), (@10-Phi(@9, @1{17}, 0x1, 0x1, 0x1, 0x1){0}), (@11-Phi(@10, @1{19}, 0x1, 0x1, 0x1, 0x1){0}), (@12-Phi(@11, @1{21}, 0x1, 0x1, 0x1, 0x1){0}), (@13-Phi(@12, @1{23}, 0x1, 0x1, 0x1, 0x1){0}), (@14-Phi(@13, @1{25}, 0x1, 0x1, 0x1, 0x1){0}), (@15-Phi(@14, @1{27}, 0x1, 0x1, 0x1, 0x1){0}), (@16-Phi(@15, @1{29}, 0x1, 0x1, 0x1, 0x1){0}), (@17-Phi(@16, @1{31}, 0x1, 0x1, 0x1, 0x1){0}), (@18-Phi(@17, @1{33}, 0x1, 0x1, 0x1, 0x1){0}), (@19-Phi(@18, @1{35}, 0x1, 0x1, 0x1, 0x1){0}), (@20-Phi(@19, @1{37}, 0x1, 0x1, 0x1, 0x1){0}), (@1{40}-Phi(@20, @1{39}, 0x1, 0x1, 0x1, 0x1){0})))}\n"
     ]
    }
   ],
   "source": [
    "obj = X[\"x\",N,\"c\"] # c_N\n",
    "\n",
    "nlp = dict(x=X, g=vertcat(*g),f=obj)\n",
    "\n",
    "print(nlp)"
   ]
  },
  {
   "cell_type": "markdown",
   "metadata": {},
   "source": [
    "Block structure in the constraint Jacobian"
   ]
  },
  {
   "cell_type": "code",
   "execution_count": 51,
   "metadata": {},
   "outputs": [
    {
     "name": "stdout",
     "output_type": "stream",
     "text": [
      "(60, 83)\n",
      "*****...............\n",
      "****.*..............\n",
      "****..*.............\n",
      "....*****...........\n",
      "....****.*..........\n",
      "....****..*.........\n",
      "........*****.......\n",
      "........****.*......\n",
      "........****..*.....\n",
      "............*****...\n",
      "............****.*..\n",
      "............****..*.\n",
      "................****\n",
      "................****\n",
      "................****\n",
      "....................\n",
      "....................\n",
      "....................\n",
      "....................\n",
      "....................\n"
     ]
    }
   ],
   "source": [
    "jacG = jacobian(nlp[\"g\"],nlp[\"x\"])\n",
    "\n",
    "S = jacG.sparsity()\n",
    "\n",
    "print(S.shape)\n",
    "\n",
    "DM.ones(S)[:20,:20].sparsity().spy()"
   ]
  },
  {
   "cell_type": "markdown",
   "metadata": {},
   "source": [
    "Recall\n",
    "\n",
    "\\begin{equation}\n",
    "\\begin{array}{cl}\n",
    "\\underset{X}{\\text{minimize}}  & F(X,P) \\\\\\\\\n",
    "\\text{subject to}\n",
    "& \\text{lbx} \\le X \\le \\text{ubx} \\\\\\\\\n",
    "& \\text{lbg} \\le G(X,P) \\le \\text{ubg} \\\\\\\\\n",
    "\\end{array}\n",
    "\\end{equation}"
   ]
  },
  {
   "cell_type": "code",
   "execution_count": 52,
   "metadata": {},
   "outputs": [],
   "source": [
    "solver = nlpsol(\"solver\",\"ipopt\",nlp)\n",
    "\n",
    "lbx = X(-inf)\n",
    "ubx = X(inf)\n",
    "\n",
    "lbx[\"u\",:] = -1; ubx[\"u\",:] = 1   #   -1 <= u(t) <= 1\n",
    "\n",
    "lbx[\"x\",0] = ubx[\"x\",0] = x0      # Initial condition"
   ]
  },
  {
   "cell_type": "code",
   "execution_count": 53,
   "metadata": {},
   "outputs": [
    {
     "name": "stdout",
     "output_type": "stream",
     "text": [
      "\n",
      "******************************************************************************\n",
      "This program contains Ipopt, a library for large-scale nonlinear optimization.\n",
      " Ipopt is released as open source code under the Eclipse Public License (EPL).\n",
      "         For more information visit http://projects.coin-or.org/Ipopt\n",
      "******************************************************************************\n",
      "\n",
      "This is Ipopt version 3.12.3, running with linear solver mumps.\n",
      "NOTE: Other linear solvers might be more efficient (see Ipopt documentation).\n",
      "\n",
      "Number of nonzeros in equality constraint Jacobian...:      291\n",
      "Number of nonzeros in inequality constraint Jacobian.:        0\n",
      "Number of nonzeros in Lagrangian Hessian.............:      191\n",
      "\n",
      "Total number of variables............................:       80\n",
      "                     variables with only lower bounds:        0\n",
      "                variables with lower and upper bounds:       20\n",
      "                     variables with only upper bounds:        0\n",
      "Total number of equality constraints.................:       60\n",
      "Total number of inequality constraints...............:        0\n",
      "        inequality constraints with only lower bounds:        0\n",
      "   inequality constraints with lower and upper bounds:        0\n",
      "        inequality constraints with only upper bounds:        0\n",
      "\n",
      "iter    objective    inf_pr   inf_du lg(mu)  ||d||  lg(rg) alpha_du alpha_pr  ls\n",
      "   0  0.0000000e+00 8.76e-01 1.52e-02  -1.0 0.00e+00    -  0.00e+00 0.00e+00   0\n",
      "   1  2.5486907e+00 7.94e-02 1.65e+00  -1.7 1.13e+00    -  4.89e-01 9.47e-01H  1\n",
      "   2  2.9354425e+00 1.47e-03 1.07e-01  -1.7 4.00e-01    -  1.00e+00 1.00e+00h  1\n",
      "   3  2.9329085e+00 5.01e-04 1.66e-03  -2.5 2.40e-02    -  1.00e+00 1.00e+00h  1\n",
      "   4  2.9331105e+00 2.21e-04 3.19e-04  -3.8 2.00e-02    -  1.00e+00 1.00e+00h  1\n",
      "   5  2.9330648e+00 3.88e-05 2.63e-05  -5.7 8.33e-03    -  1.00e+00 1.00e+00h  1\n",
      "   6  2.9330160e+00 2.73e-06 7.13e-07  -5.7 2.28e-03    -  1.00e+00 1.00e+00h  1\n",
      "   7  2.9330098e+00 1.58e-08 3.67e-09  -8.6 1.75e-04    -  1.00e+00 1.00e+00h  1\n",
      "   8  2.9330098e+00 2.00e-11 4.92e-12  -8.6 8.47e-07    -  1.00e+00 1.00e+00h  1\n",
      "\n",
      "Number of Iterations....: 8\n",
      "\n",
      "                                   (scaled)                 (unscaled)\n",
      "Objective...............:   2.9330098060247476e+00    2.9330098060247476e+00\n",
      "Dual infeasibility......:   4.9188986217529873e-12    4.9188986217529873e-12\n",
      "Constraint violation....:   1.9989676580678406e-11    1.9989676580678406e-11\n",
      "Complementarity.........:   2.5070143171502212e-09    2.5070143171502212e-09\n",
      "Overall NLP error.......:   2.5070143171502212e-09    2.5070143171502212e-09\n",
      "\n",
      "\n",
      "Number of objective function evaluations             = 10\n",
      "Number of objective gradient evaluations             = 9\n",
      "Number of equality constraint evaluations            = 10\n",
      "Number of inequality constraint evaluations          = 0\n",
      "Number of equality constraint Jacobian evaluations   = 9\n",
      "Number of inequality constraint Jacobian evaluations = 0\n",
      "Number of Lagrangian Hessian evaluations             = 8\n",
      "Total CPU secs in IPOPT (w/o function evaluations)   =      0.004\n",
      "Total CPU secs in NLP function evaluations           =      0.124\n",
      "\n",
      "EXIT: Optimal Solution Found.\n",
      "                   proc           wall      num           mean             mean\n",
      "                   time           time     evals       proc time        wall time\n",
      "        nlp_f     0.000 [s]      0.000 [s]    10       0.00 [ms]        0.00 [ms]\n",
      "        nlp_g     0.010 [s]      0.010 [s]    10       1.04 [ms]        1.04 [ms]\n",
      "   nlp_grad_f     0.000 [s]      0.000 [s]    10       0.00 [ms]        0.00 [ms]\n",
      "    nlp_jac_g     0.040 [s]      0.039 [s]    10       3.96 [ms]        3.95 [ms]\n",
      "   nlp_hess_l     0.146 [s]      0.146 [s]     8      18.26 [ms]       18.23 [ms]\n",
      " all previous     0.196 [s]      0.196 [s]\n",
      "callback_prep     0.000 [s]      0.000 [s]     9       0.00 [ms]        0.00 [ms]\n",
      "       solver     0.008 [s]      0.007 [s]\n",
      "     mainloop     0.204 [s]      0.203 [s]\n"
     ]
    }
   ],
   "source": [
    "sol_out = solver(\n",
    "           lbg = 0, # Equality constraints for shooting constraints\n",
    "           ubg = 0, #    0 <= g <= 0\n",
    "           lbx = lbx,\n",
    "           ubx = ubx)"
   ]
  },
  {
   "cell_type": "code",
   "execution_count": 54,
   "metadata": {},
   "outputs": [
    {
     "name": "stdout",
     "output_type": "stream",
     "text": [
      "[0, 1, 0, 0.0906064, -0.448076, 0.887443, 0.501436, 0.833444, -0.51441, 0.646075, 1.26397, 1, -0.451464, 0.401172, 2.02235, 0.923486, -0.317202, 0.203324, 2.57348, 0.646631, -0.189009, 0.0715976, 2.8274, 0.374789, -0.0902924, -0.00180252, 2.90952, 0.169677, -0.0266271, -0.0330152, 2.92628, 0.0415152, 0.00706083, -0.0387297, 2.92795, -0.0234559, 0.0199179, -0.0321159, 2.92897, -0.0459573, 0.0207894, -0.0217416, 2.93061, -0.0448728, 0.016303, -0.0121757, 2.93195, -0.0338735, 0.010573, -0.00519146, 2.93266, -0.0211766, 0.00566691, -0.000940381, 2.93292, -0.0107228, 0.00228172, 0.00116132, 2.93299, -0.00369017, 0.000350894, 0.00187468, 2.933, 0.000202778, -0.000522014, 0.00184959, 2.933, 0.0017923, -0.000806391, 0.00151649, 2.933, 0.00195024, -0.000920787, 0.00107798, 2.93301, 0.00135793, -0.00118539, 0.000545891, 2.93301, 0.000467824, -0.00179884, -0.000202937, 2.93301]\n"
     ]
    }
   ],
   "source": [
    "print(sol_out[\"x\"])"
   ]
  },
  {
   "cell_type": "code",
   "execution_count": 55,
   "metadata": {},
   "outputs": [],
   "source": [
    "sol = X(sol_out[\"x\"])"
   ]
  },
  {
   "cell_type": "code",
   "execution_count": 56,
   "metadata": {},
   "outputs": [
    {
     "data": {
      "text/plain": [
       "[<matplotlib.lines.Line2D at 0x7f57e03afe80>,\n",
       " <matplotlib.lines.Line2D at 0x7f57e03af048>,\n",
       " <matplotlib.lines.Line2D at 0x7f57e03afcc0>]"
      ]
     },
     "execution_count": 56,
     "metadata": {},
     "output_type": "execute_result"
    },
    {
     "data": {
      "image/png": "[encoded data removed]",
      "text/plain": [
       "<matplotlib.figure.Figure at 0x7f57d4820eb8>"
      ]
     },
     "metadata": {},
     "output_type": "display_data"
    }
   ],
   "source": [
    "plot(horzcat(*sol[\"x\",:]).T)"
   ]
  },
  {
   "cell_type": "code",
   "execution_count": 57,
   "metadata": {},
   "outputs": [
    {
     "data": {
      "text/plain": [
       "[<matplotlib.lines.Line2D at 0x7f57e10d3438>]"
      ]
     },
     "execution_count": 57,
     "metadata": {},
     "output_type": "execute_result"
    },
    {
     "data": {
      "image/png": "[encoded data removed]",
      "text/plain": [
       "<matplotlib.figure.Figure at 0x7f57d48516a0>"
      ]
     },
     "metadata": {},
     "output_type": "display_data"
    }
   ],
   "source": [
    "step(range(N),sol[\"u\",:])"
   ]
  },
  {
   "cell_type": "markdown",
   "metadata": {},
   "source": [
    "## Wrapping up"
   ]
  },
  {
   "cell_type": "markdown",
   "metadata": {},
   "source": [
    "Showcase: kite-power optimization by Greg Horn, using CasADi backend"
   ]
  },
  {
   "cell_type": "code",
   "execution_count": 58,
   "metadata": {},
   "outputs": [
    {
     "data": {
      "image/jpeg": "[encoded data removed]",
      "text/html": [
       "\n",
       "        <iframe\n",
       "            width=\"400\"\n",
       "            height=\"300\"\n",
       "            src=\"https://www.youtube.com/embed/tmjIBpb43j0\"\n",
       "            frameborder=\"0\"\n",
       "            allowfullscreen\n",
       "        ></iframe>\n",
       "        "
      ],
      "text/plain": [
       "<IPython.lib.display.YouTubeVideo at 0x7f57c791bf28>"
      ]
     },
     "execution_count": 58,
     "metadata": {},
     "output_type": "execute_result"
    }
   ],
   "source": [
    "from IPython.display import YouTubeVideo\n",
    "YouTubeVideo('tmjIBpb43j0')\n",
    "\n"
   ]
  },
  {
   "cell_type": "code",
   "execution_count": 59,
   "metadata": {},
   "outputs": [
    {
     "data": {
      "image/jpeg": "[encoded data removed]",
      "text/html": [
       "\n",
       "        <iframe\n",
       "            width=\"400\"\n",
       "            height=\"300\"\n",
       "            src=\"https://www.youtube.com/embed/SW6ZJzcMWAk\"\n",
       "            frameborder=\"0\"\n",
       "            allowfullscreen\n",
       "        ></iframe>\n",
       "        "
      ],
      "text/plain": [
       "<IPython.lib.display.YouTubeVideo at 0x7f57e12ed518>"
      ]
     },
     "execution_count": 59,
     "metadata": {},
     "output_type": "execute_result"
    }
   ],
   "source": [
    "YouTubeVideo('SW6ZJzcMWAk')"
   ]
  },
  {
   "cell_type": "markdown",
   "metadata": {},
   "source": [
    "Distinction with other software:\n",
    "<table>\n",
    "    <tr>\n",
    "        <th>ACADOtoolkit</th><th>CasADi</th>\n",
    "    </tr>\n",
    "    <tr>\n",
    "        <td><ul><li>Black-box solver</li><li>Standard-form OCP</li><li>Good at small-scale real-time NMPC</li><li>Easy to get started</li></ul></td>\n",
    "        <td><ul><li>Write your own solver using a pool of building-blocks</li><li>No limitations on formulation</li><li>Good at large-scale OCP</li><li>Easy to extend</li></ul></td>\n",
    "    </tr>\n",
    "</table>\n",
    "\n",
    "<table>\n",
    "    <tr>\n",
    "        <th>Other operator-overloading AD tools</th><th>CasADi</th>\n",
    "    </tr>\n",
    "    <tr>\n",
    "        <td><ul><li>Scalar graphs only, checkpointing</li></ul></td>\n",
    "        <td><ul><li>Scalar and matrix graphs</li><li>Batteries included: Ipopt, Sundials</li></ul></td>\n",
    "    </tr>\n",
    "</table>\n",
    "\n",
    "Closest similarity: AMPL"
   ]
  }
 ],
 "metadata": {
  "kernelspec": {
   "display_name": "Python 2",
   "language": "python",
   "name": "python2"
  },
  "language_info": {
   "codemirror_mode": {
    "name": "ipython",
    "version": 3
   },
   "file_extension": ".py",
   "mimetype": "text/x-python",
   "name": "python",
   "nbconvert_exporter": "python",
   "pygments_lexer": "ipython3",
   "version": "3.5.3"
  }
 },
 "nbformat": 4,
 "nbformat_minor": 1
}
