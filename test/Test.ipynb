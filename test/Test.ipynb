{
 "metadata": {
  "name": ""
 },
 "nbformat": 3,
 "nbformat_minor": 0,
 "worksheets": [
  {
   "cells": [
    {
     "cell_type": "code",
     "collapsed": false,
     "input": [
      "import sys\n",
      "import pprint\n",
      "import pylab as pl\n",
      "sys.path.insert(0, '..')\n",
      "from generated.Estimator import Estimator\n",
      "%load_ext autoreload\n",
      "%autoreload 2\n",
      "%matplotlib inline"
     ],
     "language": "python",
     "metadata": {},
     "outputs": [],
     "prompt_number": 1
    },
    {
     "cell_type": "code",
     "collapsed": false,
     "input": [
      "e = Estimator()"
     ],
     "language": "python",
     "metadata": {},
     "outputs": [],
     "prompt_number": 2
    },
    {
     "cell_type": "code",
     "collapsed": false,
     "input": [
      "e.linearize()"
     ],
     "language": "python",
     "metadata": {},
     "outputs": [
      {
       "metadata": {},
       "output_type": "pyout",
       "prompt_number": 3,
       "text": [
        "(Matrix([[-1]]), Matrix(0, 0, []), Matrix([[0]]), Matrix(0, 0, []))"
       ]
      }
     ],
     "prompt_number": 3
    },
    {
     "cell_type": "code",
     "collapsed": false,
     "input": [
      "e.f, e.g"
     ],
     "language": "python",
     "metadata": {},
     "outputs": [
      {
       "metadata": {},
       "output_type": "pyout",
       "prompt_number": 4,
       "text": [
        "(Matrix([[-x(t)]]), Matrix([[y]]))"
       ]
      }
     ],
     "prompt_number": 4
    },
    {
     "cell_type": "code",
     "collapsed": false,
     "input": [
      "e"
     ],
     "language": "python",
     "metadata": {},
     "outputs": [
      {
       "metadata": {},
       "output_type": "pyout",
       "prompt_number": 5,
       "text": [
        "{'c': Matrix(0, 0, []), 'g': Matrix([[y]]), 'f': Matrix([[-x(t)]]), 'eqs': [x(t) + Derivative(x(t), t), y - x(t)], 'p': Matrix(0, 0, []), 'u': Matrix(0, 0, []), 't': t, 'v': Matrix(0, 0, []), 'y': Matrix([[y]]), 'x': Matrix([[x(t)]])}"
       ]
      }
     ],
     "prompt_number": 5
    },
    {
     "cell_type": "code",
     "collapsed": false,
     "input": [
      "e"
     ],
     "language": "python",
     "metadata": {},
     "outputs": [
      {
       "metadata": {},
       "output_type": "pyout",
       "prompt_number": 6,
       "text": [
        "{'c': Matrix(0, 0, []), 'g': Matrix([[y]]), 'f': Matrix([[-x(t)]]), 'eqs': [x(t) + Derivative(x(t), t), y - x(t)], 'p': Matrix(0, 0, []), 'u': Matrix(0, 0, []), 't': t, 'v': Matrix(0, 0, []), 'y': Matrix([[y]]), 'x': Matrix([[x(t)]])}"
       ]
      }
     ],
     "prompt_number": 6
    },
    {
     "cell_type": "code",
     "collapsed": false,
     "input": [
      "e.linearize()"
     ],
     "language": "python",
     "metadata": {},
     "outputs": [
      {
       "metadata": {},
       "output_type": "pyout",
       "prompt_number": 7,
       "text": [
        "(Matrix([[-1]]), Matrix(0, 0, []), Matrix([[0]]), Matrix(0, 0, []))"
       ]
      }
     ],
     "prompt_number": 7
    },
    {
     "cell_type": "code",
     "collapsed": false,
     "input": [
      "res = e.simulate(x0 =[1], t0=10, tf=20, dt=0.001)"
     ],
     "language": "python",
     "metadata": {},
     "outputs": [],
     "prompt_number": 8
    },
    {
     "cell_type": "code",
     "collapsed": false,
     "input": [
      "pl.plot(res['t'], res['x'])"
     ],
     "language": "python",
     "metadata": {},
     "outputs": [
      {
       "metadata": {},
       "output_type": "pyout",
       "prompt_number": 9,
       "text": [
        "[<matplotlib.lines.Line2D at 0x7fb3157d8f90>]"
       ]
      },
      {
       "metadata": {},
       "output_type": "display_data",
       "png": "[encoded data removed]",
       "text": [
        "<matplotlib.figure.Figure at 0x7fb315809090>"
       ]
      }
     ],
     "prompt_number": 9
    },
    {
     "cell_type": "code",
     "collapsed": false,
     "input": [
      "res['y']"
     ],
     "language": "python",
     "metadata": {},
     "outputs": [
      {
       "metadata": {},
       "output_type": "pyout",
       "prompt_number": 12,
       "text": [
        "array([[[y]],\n",
        "\n",
        "       [[y]],\n",
        "\n",
        "       [[y]],\n",
        "\n",
        "       ..., \n",
        "       [[y]],\n",
        "\n",
        "       [[y]],\n",
        "\n",
        "       [[y]]], dtype=object)"
       ]
      }
     ],
     "prompt_number": 12
    }
   ],
   "metadata": {}
  }
 ]
}