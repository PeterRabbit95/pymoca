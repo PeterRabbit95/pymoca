{
 "cells": [
  {
   "cell_type": "code",
   "execution_count": 1,
   "metadata": {},
   "outputs": [],
   "source": [
    "import sys\n",
    "import pprint\n",
    "import pylab as pl\n",
    "sys.path.insert(0, '..')\n",
    "\n",
    "import pymola.parser\n",
    "import pymola.gen_sympy\n",
    "import sympy\n",
    "sympy.init_printing()\n",
    "%load_ext autoreload\n",
    "\n",
    "%autoreload 2\n",
    "%matplotlib inline"
   ]
  },
  {
   "cell_type": "markdown",
   "metadata": {},
   "source": [
    "# Modelica Source Code"
   ]
  },
  {
   "cell_type": "code",
   "execution_count": 2,
   "metadata": {},
   "outputs": [],
   "source": [
    "modelica_src = '''\n",
    "\n",
    "model Spring\n",
    "    Real x, v_x;\n",
    "    parameter Real c = 0.1;\n",
    "    parameter Real k = 2;\n",
    "equation\n",
    "    der(x) = v_x;\n",
    "    der(v_x) = -k*x - c*v_x;\n",
    "end Spring;\n",
    "\n",
    "'''"
   ]
  },
  {
   "cell_type": "markdown",
   "metadata": {},
   "source": [
    "# Generation of Abstract Syntax Tree"
   ]
  },
  {
   "cell_type": "code",
   "execution_count": 3,
   "metadata": {},
   "outputs": [
    {
     "name": "stdout",
     "output_type": "stream",
     "text": [
      "{\n  \"classes\": {\n    \"Spring\": {\n      \"comment\": \"\",\n      \"constants\": [],\n      \"encapsulated\": false,\n      \"equations\": [\n        {\n          \"comment\": \"\",\n          \"left\": {\n            \"operands\": [\n              {\n                \"name\": \"x\"\n              }\n            ],\n            \"operator\": \"der\"\n          },\n          \"right\": {\n            \"name\": \"v_x\"\n          }\n        },\n        {\n          \"comment\": \"\",\n          \"left\": {\n            \"operands\": [\n              {\n                \"name\": \"v_x\"\n              }\n            ],\n            \"operator\": \"der\"\n          },\n          \"right\": {\n            \"operands\": [\n              {\n                \"operands\": [\n                  {\n                    \"operands\": [\n                      {\n                        \"name\": \"k\"\n                      }\n                    ],\n                    \"operator\": \"-\"\n                  },\n                  {\n                    \"name\": \"x\"\n                  }\n                ],\n                \"operator\": \"*\"\n              },\n              {\n                \"operands\": [\n                  {\n                    \"name\": \"c\"\n                  },\n                  {\n                    \"name\": \"v_x\"\n                  }\n                ],\n                \"operator\": \"*\"\n              }\n            ],\n            \"operator\": \"-\"\n          }\n        }\n      ],\n      \"final\": false,\n      \"initial_equations\": [],\n      \"inputs\": [],\n      \"name\": \"Spring\",\n      \"outputs\": [],\n      \"parameters\": [\n        {\n          \"name\": \"c\"\n        },\n        {\n          \"name\": \"k\"\n        }\n      ],\n      \"partial\": false,\n      \"states\": [\n        {\n          \"name\": \"x\"\n        },\n        {\n          \"name\": \"v_x\"\n        }\n      ],\n      \"symbols\": {\n        \"c\": {\n          \"comment\": \"\",\n          \"dimensions\": [\n            1\n          ],\n          \"final\": false,\n          \"inner\": false,\n          \"name\": \"c\",\n          \"outer\": false,\n          \"prefixes\": [\n            \"parameter\"\n          ],\n          \"redeclare\": false,\n          \"start\": {\n            \"value\": \"0.1\"\n          },\n          \"type\": \"Real\"\n        },\n        \"k\": {\n          \"comment\": \"\",\n          \"dimensions\": [\n            1\n          ],\n          \"final\": false,\n          \"inner\": false,\n          \"name\": \"k\",\n          \"outer\": false,\n          \"prefixes\": [\n            \"parameter\"\n          ],\n          \"redeclare\": false,\n          \"start\": {\n            \"value\": \"2\"\n          },\n          \"type\": \"Real\"\n        },\n        \"v_x\": {\n          \"comment\": \"\",\n          \"dimensions\": [\n            1\n          ],\n          \"final\": false,\n          \"inner\": false,\n          \"name\": \"v_x\",\n          \"outer\": false,\n          \"prefixes\": [\n            \"\"\n          ],\n          \"redeclare\": false,\n          \"start\": \"\",\n          \"type\": \"Real\"\n        },\n        \"x\": {\n          \"comment\": \"\",\n          \"dimensions\": [\n            1\n          ],\n          \"final\": false,\n          \"inner\": false,\n          \"name\": \"x\",\n          \"outer\": false,\n          \"prefixes\": [\n            \"\"\n          ],\n          \"redeclare\": false,\n          \"start\": \"\",\n          \"type\": \"Real\"\n        }\n      },\n      \"type\": \"model\",\n      \"variables\": []\n    }\n  },\n  \"within\": \"\"\n}\n"
     ]
    }
   ],
   "source": [
    "ast = pymola.parser.parse(modelica_src)\n",
    "print(ast)"
   ]
  },
  {
   "cell_type": "markdown",
   "metadata": {},
   "source": [
    "# Generation of Sympy Model"
   ]
  },
  {
   "cell_type": "code",
   "execution_count": 4,
   "metadata": {},
   "outputs": [],
   "source": [
    "ball_sympy = pymola.gen_sympy.generate(ast, 'Spring')\n",
    "#print(ball_sympy)"
   ]
  },
  {
   "cell_type": "code",
   "execution_count": 5,
   "metadata": {},
   "outputs": [
    {
     "data": {
      "text/plain": [
       "{'c': Matrix(0, 0, []), 't': t, 'f': Matrix([\n[            v_x(t)],\n[-c*v_x(t) - k*x(t)]]), 'v': Matrix(0, 0, []), 'p': Matrix([\n[c],\n[k]]), 'y': Matrix(0, 0, []), 'p0': {'c': 0.1, 'k': 2}, 'c0': {}, 'u': Matrix(0, 0, []), 'eqs': [-v_x(t) + Derivative(x(t), t), c*v_x(t) + k*x(t) + Derivative(v_x(t), t)], 'x': Matrix([\n[  x(t)],\n[v_x(t)]]), 'g': Matrix(0, 0, [])}"
      ]
     },
     "execution_count": 5,
     "metadata": {},
     "output_type": "execute_result"
    }
   ],
   "source": [
    "exec(ball_sympy)\n",
    "model = Spring()\n",
    "model"
   ]
  },
  {
   "cell_type": "code",
   "execution_count": 6,
   "metadata": {},
   "outputs": [
    {
     "data": {
      "text/latex": [
       "$$\\left ( \\left[\\begin{matrix}0 & 1\\\\- k & - c\\end{matrix}\\right], \\quad \\left[\\begin{matrix}\\end{matrix}\\right], \\quad \\left[\\begin{matrix}\\end{matrix}\\right], \\quad \\left[\\begin{matrix}\\end{matrix}\\right]\\right )$$"
      ],
      "text/plain": [
       "⎛⎡0   1 ⎤, [], [], []⎞\n⎜⎢      ⎥            ⎟\n⎝⎣-k  -c⎦            ⎠"
      ]
     },
     "metadata": {},
     "output_type": "execute_result"
    }
   ],
   "source": [
    "model.linearize()"
   ]
  },
  {
   "cell_type": "markdown",
   "metadata": {},
   "source": [
    "# Simulation of Sympy Model"
   ]
  },
  {
   "cell_type": "code",
   "execution_count": 7,
   "metadata": {},
   "outputs": [],
   "source": [
    "res = model.simulate(x0 =[1, 1], t0=10, tf=20, dt=0.001)"
   ]
  },
  {
   "cell_type": "code",
   "execution_count": 8,
   "metadata": {},
   "outputs": [
    {
     "data": {
      "text/plain": [
       "<matplotlib.text.Text at 0x7fb69e514e10>"
      ]
     },
     "execution_count": 8,
     "metadata": {},
     "output_type": "execute_result"
    },
    {
     "data": {
      "image/png": "[encoded data removed]",
      "text/plain": [
       "<matplotlib.figure.Figure at 0x7fb6a0d73208>"
      ]
     },
     "metadata": {},
     "output_type": "display_data"
    }
   ],
   "source": [
    "pl.plot(res['t'], res['x'])\n",
    "pl.grid()\n",
    "pl.xlabel('t, sec')\n",
    "pl.ylabel('x')"
   ]
  },
  {
   "cell_type": "code",
   "execution_count": 9,
   "metadata": {},
   "outputs": [
    {
     "data": {
      "text/latex": [
       "$$\\left[\\begin{matrix}\\operatorname{v_{x}}{\\left (t \\right )}\\\\- c \\operatorname{v_{x}}{\\left (t \\right )} - k x{\\left (t \\right )}\\end{matrix}\\right]$$"
      ],
      "text/plain": [
       "⎡      vₓ(t)      ⎤\n⎢                 ⎥\n⎣-c⋅vₓ(t) - k⋅x(t)⎦"
      ]
     },
     "metadata": {},
     "output_type": "execute_result"
    }
   ],
   "source": [
    "sympy.init_printing()\n",
    "model.f"
   ]
  },
  {
   "cell_type": "code",
   "execution_count": 10,
   "metadata": {},
   "outputs": [
    {
     "data": {
      "text/latex": [
       "$$\\left[\\begin{matrix}0 & 1\\\\- k & - c\\end{matrix}\\right]$$"
      ],
      "text/plain": [
       "⎡0   1 ⎤\n⎢      ⎥\n⎣-k  -c⎦"
      ]
     },
     "metadata": {},
     "output_type": "execute_result"
    }
   ],
   "source": [
    "model.f.jacobian(model.x)"
   ]
  },
  {
   "cell_type": "code",
   "execution_count": 11,
   "metadata": {},
   "outputs": [
    {
     "data": {
      "text/latex": [
       "$$\\left[\\begin{matrix}0 & 0\\\\- \\operatorname{v_{x}}{\\left (t \\right )} & - x{\\left (t \\right )}\\end{matrix}\\right]$$"
      ],
      "text/plain": [
       "⎡  0       0  ⎤\n⎢             ⎥\n⎣-vₓ(t)  -x(t)⎦"
      ]
     },
     "metadata": {},
     "output_type": "execute_result"
    }
   ],
   "source": [
    "model.f.jacobian(model.p)"
   ]
  },
  {
   "cell_type": "markdown",
   "metadata": {},
   "source": [
    "# Lyapunov Stability"
   ]
  },
  {
   "cell_type": "markdown",
   "metadata": {},
   "source": [
    "Using the energy function as a candidate function, we can show that the system has global exponential stability (GES)."
   ]
  },
  {
   "cell_type": "code",
   "execution_count": 12,
   "metadata": {},
   "outputs": [
    {
     "data": {
      "text/latex": [
       "$$V = \\frac{k}{2} x^{2}{\\left (t \\right )} + \\frac{1}{2} \\operatorname{v_{x}}^{2}{\\left (t \\right )}$$"
      ],
      "text/plain": [
       "       2        2   \n    k⋅x (t)   vₓ (t)\nV = ─────── + ──────\n       2        2   "
      ]
     },
     "metadata": {},
     "output_type": "execute_result"
    }
   ],
   "source": [
    "v_x, k, t, V, x = sympy.symbols('v_x, k, t, V, x')\n",
    "V_eq = (v_x(t)**2 + k*x(t)**2)/2\n",
    "sympy.Eq(V, V_eq)"
   ]
  },
  {
   "cell_type": "code",
   "execution_count": 13,
   "metadata": {},
   "outputs": [
    {
     "data": {
      "text/latex": [
       "$$\\frac{d}{d t} V{\\left (t \\right )} = - c \\operatorname{v_{x}}^{2}{\\left (t \\right )}$$"
      ],
      "text/plain": [
       "d               2   \n──(V(t)) = -c⋅vₓ (t)\ndt                  "
      ]
     },
     "metadata": {},
     "output_type": "execute_result"
    }
   ],
   "source": [
    "dV_dt_eq = (sympy.Matrix([V_eq]).jacobian(model.x).dot(model.f)).simplify()\n",
    "sympy.Eq(V(t).diff(t), dV_dt_eq)"
   ]
  },
  {
   "cell_type": "code",
   "execution_count": 14,
   "metadata": {},
   "outputs": [
    {
     "data": {
      "image/png": "[encoded data removed]",
      "text/plain": [
       "<matplotlib.figure.Figure at 0x7fb6a144c1d0>"
      ]
     },
     "metadata": {},
     "output_type": "display_data"
    }
   ],
   "source": [
    "V_lam = sympy.lambdify(model.x, V_eq.subs(model.p0))\n",
    "V_vals = [V_lam(*x) for x in res['x']]\n",
    "pl.plot(res['t'], V_vals)\n",
    "pl.xlabel('t')\n",
    "pl.ylabel('V')\n",
    "pl.grid()"
   ]
  },
  {
   "cell_type": "markdown",
   "metadata": {},
   "source": [
    "# Parameter Sensitivity"
   ]
  },
  {
   "cell_type": "code",
   "execution_count": 17,
   "metadata": {},
   "outputs": [
    {
     "data": {
      "text/latex": [
       "$$\\left[\\begin{matrix}0 & 0\\\\- \\operatorname{v_{x}}{\\left (t \\right )} & - x{\\left (t \\right )}\\end{matrix}\\right]$$"
      ],
      "text/plain": [
       "⎡  0       0  ⎤\n⎢             ⎥\n⎣-vₓ(t)  -x(t)⎦"
      ]
     },
     "metadata": {},
     "output_type": "execute_result"
    }
   ],
   "source": [
    "model.f.jacobian(model.p)"
   ]
  }
 ],
 "metadata": {
  "name": ""
 },
 "nbformat": 4,
 "nbformat_minor": 0
}