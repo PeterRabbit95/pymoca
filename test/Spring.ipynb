{
 "metadata": {
  "name": ""
 },
 "nbformat": 3,
 "nbformat_minor": 0,
 "worksheets": [
  {
   "cells": [
    {
     "cell_type": "code",
     "collapsed": false,
     "input": [
      "import sys\n",
      "import pprint\n",
      "import pylab as pl\n",
      "sys.path.insert(0, '..')\n",
      "import pymola.parser\n",
      "import pymola.gen_sympy\n",
      "import sympy\n",
      "sympy.init_printing()\n",
      "%load_ext autoreload\n",
      "\n",
      "%autoreload 2\n",
      "%matplotlib inline"
     ],
     "language": "python",
     "metadata": {},
     "outputs": [],
     "prompt_number": 1
    },
    {
     "cell_type": "code",
     "collapsed": false,
     "input": [
      "ast = pymola.parser.parse('''\n",
      "model Spring\n",
      "    Real x, v_x;\n",
      "    parameter Real c = 0.1;\n",
      "    parameter Real k = 2;\n",
      "equation\n",
      "    der(x) = v_x;\n",
      "    der(v_x) = -k*x - c*v_x;\n",
      "end Spring;\n",
      "''')\n",
      "print(ast)"
     ],
     "language": "python",
     "metadata": {},
     "outputs": [
      {
       "output_type": "stream",
       "stream": "stdout",
       "text": [
        "{\n",
        "  \"classes\": {\n",
        "    \"Spring\": {\n",
        "      \"comment\": \"\", \n",
        "      \"constants\": [], \n",
        "      \"encapsulated\": false, \n",
        "      \"equations\": [\n",
        "        {\n",
        "          \"comment\": \"\", \n",
        "          \"left\": {\n",
        "            \"operands\": [\n",
        "              {\n",
        "                \"name\": \"x\"\n",
        "              }\n",
        "            ], \n",
        "            \"operator\": \"der\"\n",
        "          }, \n",
        "          \"right\": {\n",
        "            \"name\": \"v_x\"\n",
        "          }\n",
        "        }, \n",
        "        {\n",
        "          \"comment\": \"\", \n",
        "          \"left\": {\n",
        "            \"operands\": [\n",
        "              {\n",
        "                \"name\": \"v_x\"\n",
        "              }\n",
        "            ], \n",
        "            \"operator\": \"der\"\n",
        "          }, \n",
        "          \"right\": {\n",
        "            \"operands\": [\n",
        "              {\n",
        "                \"operands\": [\n",
        "                  {\n",
        "                    \"operands\": [\n",
        "                      {\n",
        "                        \"name\": \"k\"\n",
        "                      }\n",
        "                    ], \n",
        "                    \"operator\": \"-\"\n",
        "                  }, \n",
        "                  {\n",
        "                    \"name\": \"x\"\n",
        "                  }\n",
        "                ], \n",
        "                \"operator\": \"*\"\n",
        "              }, \n",
        "              {\n",
        "                \"operands\": [\n",
        "                  {\n",
        "                    \"name\": \"c\"\n",
        "                  }, \n",
        "                  {\n",
        "                    \"name\": \"v_x\"\n",
        "                  }\n",
        "                ], \n",
        "                \"operator\": \"*\"\n",
        "              }\n",
        "            ], \n",
        "            \"operator\": \"-\"\n",
        "          }\n",
        "        }\n",
        "      ], \n",
        "      \"final\": false, \n",
        "      \"initial_equations\": [], \n",
        "      \"inputs\": [], \n",
        "      \"name\": \"Spring\", \n",
        "      \"outputs\": [], \n",
        "      \"parameters\": [\n",
        "        {\n",
        "          \"name\": \"c\"\n",
        "        }, \n",
        "        {\n",
        "          \"name\": \"k\"\n",
        "        }\n",
        "      ], \n",
        "      \"partial\": false, \n",
        "      \"states\": [\n",
        "        {\n",
        "          \"name\": \"x\"\n",
        "        }, \n",
        "        {\n",
        "          \"name\": \"v_x\"\n",
        "        }\n",
        "      ], \n",
        "      \"symbols\": {\n",
        "        \"c\": {\n",
        "          \"comment\": \"\", \n",
        "          \"dimensions\": [\n",
        "            1\n",
        "          ], \n",
        "          \"final\": false, \n",
        "          \"inner\": false, \n",
        "          \"name\": \"c\", \n",
        "          \"outer\": false, \n",
        "          \"prefixes\": [\n",
        "            \"parameter\"\n",
        "          ], \n",
        "          \"redeclare\": false, \n",
        "          \"start\": {\n",
        "            \"value\": \"0.1\"\n",
        "          }, \n",
        "          \"type\": \"Real\"\n",
        "        }, \n",
        "        \"k\": {\n",
        "          \"comment\": \"\", \n",
        "          \"dimensions\": [\n",
        "            1\n",
        "          ], \n",
        "          \"final\": false, \n",
        "          \"inner\": false, \n",
        "          \"name\": \"k\", \n",
        "          \"outer\": false, \n",
        "          \"prefixes\": [\n",
        "            \"parameter\"\n",
        "          ], \n",
        "          \"redeclare\": false, \n",
        "          \"start\": {\n",
        "            \"value\": \"2\"\n",
        "          }, \n",
        "          \"type\": \"Real\"\n",
        "        }, \n",
        "        \"v_x\": {\n",
        "          \"comment\": \"\", \n",
        "          \"dimensions\": [\n",
        "            1\n",
        "          ], \n",
        "          \"final\": false, \n",
        "          \"inner\": false, \n",
        "          \"name\": \"v_x\", \n",
        "          \"outer\": false, \n",
        "          \"prefixes\": [\n",
        "            \"\"\n",
        "          ], \n",
        "          \"redeclare\": false, \n",
        "          \"start\": \"\", \n",
        "          \"type\": \"Real\"\n",
        "        }, \n",
        "        \"x\": {\n",
        "          \"comment\": \"\", \n",
        "          \"dimensions\": [\n",
        "            1\n",
        "          ], \n",
        "          \"final\": false, \n",
        "          \"inner\": false, \n",
        "          \"name\": \"x\", \n",
        "          \"outer\": false, \n",
        "          \"prefixes\": [\n",
        "            \"\"\n",
        "          ], \n",
        "          \"redeclare\": false, \n",
        "          \"start\": \"\", \n",
        "          \"type\": \"Real\"\n",
        "        }\n",
        "      }, \n",
        "      \"type\": \"model\", \n",
        "      \"variables\": []\n",
        "    }\n",
        "  }, \n",
        "  \"within\": \"\"\n",
        "}\n"
       ]
      }
     ],
     "prompt_number": 2
    },
    {
     "cell_type": "code",
     "collapsed": false,
     "input": [
      "ball_sympy = pymola.gen_sympy.generate(ast, 'Spring')\n",
      "print(ball_sympy)"
     ],
     "language": "python",
     "metadata": {},
     "outputs": [
      {
       "output_type": "stream",
       "stream": "stdout",
       "text": [
        "\n",
        "# do not edit, generated by pymola\n",
        "\n",
        "from __future__ import print_function, division\n",
        "import sympy\n",
        "import sympy.physics.mechanics as mech\n",
        "from pymola.sympy_runtime import OdeModel\n",
        "\n",
        "class Spring(OdeModel):\n",
        "\n",
        "    def __init__(self):\n",
        "\n",
        "        super(Spring, self).__init__()\n",
        "\n",
        "        # states\n",
        "        x, v_x = mech.dynamicsymbols('x, v_x')\n",
        "        self.x = sympy.Matrix([x, v_x])\n",
        "\n",
        "        # inputs\n",
        "        self.u = sympy.Matrix([])\n",
        "\n",
        "        # outputs\n",
        "        self.y = sympy.Matrix([])\n",
        "\n",
        "        # constants\n",
        "        self.c = sympy.Matrix([])\n",
        "        self.c0 = {\n",
        "            }\n",
        "\n",
        "        # parameters\n",
        "        c, k = sympy.symbols('c, k')\n",
        "        self.p = sympy.Matrix([c, k])\n",
        "        self.p0 = {\n",
        "            'c' : 0.1,\n",
        "            'k' : 2,\n",
        "            }\n",
        "\n",
        "        # variables\n",
        "        self.v = sympy.Matrix([])\n",
        "      \n",
        "        # equations\n",
        "        self.eqs = [\n",
        "            (x).diff(self.t) - (v_x),\n",
        "            (v_x).diff(self.t) - (- k * x - c * v_x),\n",
        "            ]\n",
        "\n",
        "        self.compute_fg()\n",
        "    \n"
       ]
      }
     ],
     "prompt_number": 3
    },
    {
     "cell_type": "code",
     "collapsed": false,
     "input": [
      "exec(ball_sympy)"
     ],
     "language": "python",
     "metadata": {},
     "outputs": [],
     "prompt_number": 4
    },
    {
     "cell_type": "code",
     "collapsed": false,
     "input": [
      "model = Spring()\n",
      "model"
     ],
     "language": "python",
     "metadata": {},
     "outputs": [
      {
       "metadata": {},
       "output_type": "pyout",
       "prompt_number": 5,
       "text": [
        "{'c': Matrix(0, 0, []), 'g': Matrix(0, 0, []), 'f': Matrix([\n",
        "[            v_x(t)],\n",
        "[-c*v_x(t) - k*x(t)]]), 'eqs': [-v_x(t) + Derivative(x(t), t), c*v_x(t) + k*x(t) + Derivative(v_x(t), t)], 'p0': {'c': 0.1, 'k': 2}, 'p': Matrix([\n",
        "[c],\n",
        "[k]]), 'u': Matrix(0, 0, []), 't': t, 'v': Matrix(0, 0, []), 'y': Matrix(0, 0, []), 'x': Matrix([\n",
        "[  x(t)],\n",
        "[v_x(t)]]), 'c0': {}}"
       ]
      }
     ],
     "prompt_number": 5
    },
    {
     "cell_type": "code",
     "collapsed": false,
     "input": [
      "model.linearize()"
     ],
     "language": "python",
     "metadata": {},
     "outputs": [
      {
       "latex": [
        "$$\\left ( \\left[\\begin{matrix}0 & 1\\\\- k & - c\\end{matrix}\\right], \\quad \\left[\\begin{matrix}\\end{matrix}\\right], \\quad \\left[\\begin{matrix}\\end{matrix}\\right], \\quad \\left[\\begin{matrix}\\end{matrix}\\right]\\right )$$"
       ],
       "metadata": {},
       "output_type": "pyout",
       "png": "[encoded data removed]",
       "prompt_number": 6,
       "text": [
        "\u239b\u23a10   1 \u23a4, [], [], []\u239e\n",
        "\u239c\u23a2      \u23a5            \u239f\n",
        "\u239d\u23a3-k  -c\u23a6            \u23a0"
       ]
      }
     ],
     "prompt_number": 6
    },
    {
     "cell_type": "code",
     "collapsed": false,
     "input": [
      "res = model.simulate(x0 =[1, 1], t0=10, tf=20, dt=0.001)"
     ],
     "language": "python",
     "metadata": {},
     "outputs": [
      {
       "output_type": "stream",
       "stream": "stdout",
       "text": [
        "{'k': 2, v_x(t): x[1], 'c': 0.1, x(t): x[0]}\n"
       ]
      }
     ],
     "prompt_number": 7
    },
    {
     "cell_type": "code",
     "collapsed": false,
     "input": [
      "pl.plot(res['t'], res['x'])"
     ],
     "language": "python",
     "metadata": {},
     "outputs": [
      {
       "metadata": {},
       "output_type": "pyout",
       "prompt_number": 8,
       "text": [
        "[<matplotlib.lines.Line2D at 0x7f11b7698b50>,\n",
        " <matplotlib.lines.Line2D at 0x7f11b7698cd0>]"
       ]
      },
      {
       "metadata": {},
       "output_type": "display_data",
       "png": "[encoded data removed]",
       "text": [
        "<matplotlib.figure.Figure at 0x7f11b7a53f90>"
       ]
      }
     ],
     "prompt_number": 8
    },
    {
     "cell_type": "code",
     "collapsed": false,
     "input": [
      "sympy.init_printing()\n",
      "model.f"
     ],
     "language": "python",
     "metadata": {},
     "outputs": [
      {
       "latex": [
        "$$\\left[\\begin{matrix}\\operatorname{v_{x}}{\\left (t \\right )}\\\\- c \\operatorname{v_{x}}{\\left (t \\right )} - k x{\\left (t \\right )}\\end{matrix}\\right]$$"
       ],
       "metadata": {},
       "output_type": "pyout",
       "png": "[encoded data removed]",
       "prompt_number": 9,
       "text": [
        "\u23a1      v\u2093(t)      \u23a4\n",
        "\u23a2                 \u23a5\n",
        "\u23a3-c\u22c5v\u2093(t) - k\u22c5x(t)\u23a6"
       ]
      }
     ],
     "prompt_number": 9
    },
    {
     "cell_type": "code",
     "collapsed": false,
     "input": [
      "model.f.jacobian(model.x)"
     ],
     "language": "python",
     "metadata": {},
     "outputs": [
      {
       "latex": [
        "$$\\left[\\begin{matrix}0 & 1\\\\- k & - c\\end{matrix}\\right]$$"
       ],
       "metadata": {},
       "output_type": "pyout",
       "png": "[encoded data removed]",
       "prompt_number": 10,
       "text": [
        "\u23a10   1 \u23a4\n",
        "\u23a2      \u23a5\n",
        "\u23a3-k  -c\u23a6"
       ]
      }
     ],
     "prompt_number": 10
    }
   ],
   "metadata": {}
  }
 ]
}