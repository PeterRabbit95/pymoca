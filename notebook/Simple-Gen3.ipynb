{
 "metadata": {
  "name": ""
 },
 "nbformat": 3,
 "nbformat_minor": 0,
 "worksheets": [
  {
   "cells": [
    {
     "cell_type": "code",
     "collapsed": false,
     "input": [
      "from __future__ import print_function\n",
      "import pymola.gen_sympy3\n",
      "import pymola.ast\n",
      "import pylab as pl\n",
      "import sympy\n",
      "import sympy.physics.mechanics as mech\n",
      "import json\n",
      "sympy.init_printing()\n",
      "mech.init_vprinting()\n",
      "%matplotlib inline\n",
      "%load_ext autoreload\n",
      "%autoreload 2"
     ],
     "language": "python",
     "metadata": {},
     "outputs": [],
     "prompt_number": 1
    },
    {
     "cell_type": "code",
     "collapsed": false,
     "input": [
      "%%file Ball.mo\n",
      "model Ball \"This is a ball model\"\n",
      "    input Real f_x, f_y, f_z;\n",
      "    parameter Real c = 1;\n",
      "    output Real x, y, z, v_x, v_y, v_z, a_x, a_y, a_z;\n",
      "equation\n",
      "    der(x) = v_x;\n",
      "    der(y) = v_y;\n",
      "    der(z) = v_z;\n",
      "    der(v_x) = a_x;\n",
      "    der(v_y) = a_y;\n",
      "    der(v_z) = a_z;\n",
      "    a_x = -c*x + f_x;\n",
      "    a_y = -c*y + f_y;\n",
      "    a_z = -c*z + f_z;\n",
      "    der(v_y) = a_y;\n",
      "end Ball;"
     ],
     "language": "python",
     "metadata": {},
     "outputs": [
      {
       "output_type": "stream",
       "stream": "stdout",
       "text": [
        "Overwriting Ball.mo\n"
       ]
      }
     ],
     "prompt_number": 2
    },
    {
     "cell_type": "code",
     "collapsed": false,
     "input": [
      "ast = pymola.ast.generate(open('Ball.mo', 'r').read(), trace=False)\n",
      "print(json.dumps(ast, indent=2))"
     ],
     "language": "python",
     "metadata": {},
     "outputs": [
      {
       "output_type": "stream",
       "stream": "stdout",
       "text": [
        "[\n",
        "  {\n",
        "    \"comment\": \"This is a ball model\", \n",
        "    \"composition\": {\n",
        "      \"ext_func_call\": null, \n",
        "      \"comp_annotation\": null, \n",
        "      \"eq_section\": [\n",
        "        {\n",
        "          \"init\": false, \n",
        "          \"eqs\": [\n",
        "            \"x(t).diff(t) - v_x\", \n",
        "            \"y(t).diff(t) - v_y\", \n",
        "            \"z(t).diff(t) - v_z\", \n",
        "            \"v_x(t).diff(t) - a_x\", \n",
        "            \"v_y(t).diff(t) - a_y\", \n",
        "            \"v_z(t).diff(t) - a_z\", \n",
        "            \"a_x - -c * x + f_x\", \n",
        "            \"a_y - -c * y + f_y\", \n",
        "            \"a_z - -c * z + f_z\", \n",
        "            \"v_y(t).diff(t) - a_y\"\n",
        "          ]\n",
        "        }\n",
        "      ], \n",
        "      \"language_spec\": null, \n",
        "      \"ext_annotation\": null, \n",
        "      \"elist\": [\n",
        "        {\n",
        "          \"constraining_clause\": null, \n",
        "          \"comment\": null, \n",
        "          \"redeclare\": false, \n",
        "          \"outer\": false, \n",
        "          \"inner\": false, \n",
        "          \"rclassdef\": null, \n",
        "          \"comp\": null, \n",
        "          \"rcomp\": null, \n",
        "          \"final\": false, \n",
        "          \"classdef\": {\n",
        "            \"type_prefix\": [\n",
        "              \"input\"\n",
        "            ], \n",
        "            \"type_specifier\": \"Real\", \n",
        "            \"array_subscripts\": null, \n",
        "            \"component_list\": [\n",
        "              \"f_x\", \n",
        "              \"f_y\", \n",
        "              \"f_z\"\n",
        "            ]\n",
        "          }\n",
        "        }, \n",
        "        {\n",
        "          \"constraining_clause\": null, \n",
        "          \"comment\": null, \n",
        "          \"redeclare\": false, \n",
        "          \"outer\": false, \n",
        "          \"inner\": false, \n",
        "          \"rclassdef\": null, \n",
        "          \"comp\": null, \n",
        "          \"rcomp\": null, \n",
        "          \"final\": false, \n",
        "          \"classdef\": {\n",
        "            \"type_prefix\": [\n",
        "              \"parameter\"\n",
        "            ], \n",
        "            \"type_specifier\": \"Real\", \n",
        "            \"array_subscripts\": null, \n",
        "            \"component_list\": [\n",
        "              \"c\"\n",
        "            ]\n",
        "          }\n",
        "        }, \n",
        "        {\n",
        "          \"constraining_clause\": null, \n",
        "          \"comment\": null, \n",
        "          \"redeclare\": false, \n",
        "          \"outer\": false, \n",
        "          \"inner\": false, \n",
        "          \"rclassdef\": null, \n",
        "          \"comp\": null, \n",
        "          \"rcomp\": null, \n",
        "          \"final\": false, \n",
        "          \"classdef\": {\n",
        "            \"type_prefix\": [\n",
        "              \"output\"\n",
        "            ], \n",
        "            \"type_specifier\": \"Real\", \n",
        "            \"array_subscripts\": null, \n",
        "            \"component_list\": [\n",
        "              \"x\", \n",
        "              \"y\", \n",
        "              \"z\", \n",
        "              \"v_x\", \n",
        "              \"v_y\", \n",
        "              \"v_z\", \n",
        "              \"a_x\", \n",
        "              \"a_y\", \n",
        "              \"a_z\"\n",
        "            ]\n",
        "          }\n",
        "        }\n",
        "      ], \n",
        "      \"alg_section\": [], \n",
        "      \"elist_protected\": [], \n",
        "      \"elist_public\": []\n",
        "    }, \n",
        "    \"name\": \"Ball\"\n",
        "  }\n",
        "]\n"
       ]
      }
     ],
     "prompt_number": 3
    },
    {
     "cell_type": "code",
     "collapsed": false,
     "input": [
      "res = pymola.gen_sympy3.process_ast(ast[0]['composition'])"
     ],
     "language": "python",
     "metadata": {},
     "outputs": [],
     "prompt_number": 4
    },
    {
     "cell_type": "code",
     "collapsed": false,
     "input": [
      "res['f'], res['a'], res['x'], res['y'], res['u'], res['p']"
     ],
     "language": "python",
     "metadata": {},
     "outputs": [
      {
       "latex": [
        "$$\\left ( \\left[\\begin{matrix}- v_{x} + \\dot{x}\\\\- v_{y} + \\dot{y}\\\\- v_{z} + \\dot{z}\\\\- a_{x} + \\dot{v}_{x}\\\\- a_{y} + \\dot{v}_{y}\\\\- a_{z} + \\dot{v}_{z}\\\\- a_{y} + \\dot{v}_{y}\\end{matrix}\\right], \\quad \\left[\\begin{matrix}c x + a_{x} + f_{x}\\\\c y + a_{y} + f_{y}\\\\c z + a_{z} + f_{z}\\end{matrix}\\right], \\quad \\left[\\begin{matrix}x\\\\y\\\\z\\\\v_{x}\\\\v_{y}\\\\v_{z}\\end{matrix}\\right], \\quad \\left[\\begin{matrix}x\\\\y\\\\z\\\\v_{x}\\\\v_{y}\\\\v_{z}\\\\a_{x}\\\\a_{y}\\\\a_{z}\\end{matrix}\\right], \\quad \\left[\\begin{matrix}f_{x}\\\\f_{y}\\\\f_{z}\\end{matrix}\\right], \\quad \\left[\\begin{matrix}c\\end{matrix}\\right]\\right )$$"
       ],
       "metadata": {},
       "output_type": "pyout",
       "png": "[encoded data removed]",
       "prompt_number": 5,
       "text": [
        "\u239b\u23a1 -v\u2093 + x\u0307  \u23a4, \u23a1 c\u22c5x + a\u2093 + f\u2093 \u23a4, \u23a1 x \u23a4, \u23a1 x \u23a4, \u23a1f\u2093 \u23a4, [c]\u239e\n",
        "\u239c\u23a2           \u23a5  \u23a2               \u23a5  \u23a2   \u23a5  \u23a2   \u23a5  \u23a2   \u23a5     \u239f\n",
        "\u239c\u23a2 -v_y + y\u0307 \u23a5  \u23a2c\u22c5y + a_y + f_y\u23a5  \u23a2 y \u23a5  \u23a2 y \u23a5  \u23a2f_y\u23a5     \u239f\n",
        "\u239c\u23a2           \u23a5  \u23a2               \u23a5  \u23a2   \u23a5  \u23a2   \u23a5  \u23a2   \u23a5     \u239f\n",
        "\u239c\u23a2 -v_z + z\u0307 \u23a5  \u23a3c\u22c5z + a_z + f_z\u23a6  \u23a2 z \u23a5  \u23a2 z \u23a5  \u23a3f_z\u23a6     \u239f\n",
        "\u239c\u23a2           \u23a5                     \u23a2   \u23a5  \u23a2   \u23a5            \u239f\n",
        "\u239c\u23a2 -a\u2093 + v\u2093\u0307 \u23a5                     \u23a2v\u2093 \u23a5  \u23a2v\u2093 \u23a5            \u239f\n",
        "\u239c\u23a2           \u23a5                     \u23a2   \u23a5  \u23a2   \u23a5            \u239f\n",
        "\u239c\u23a2-a_y + v_\u0307y\u23a5                     \u23a2v_y\u23a5  \u23a2v_y\u23a5            \u239f\n",
        "\u239c\u23a2           \u23a5                     \u23a2   \u23a5  \u23a2   \u23a5            \u239f\n",
        "\u239c\u23a2-a_z + v_\u0307z\u23a5                     \u23a3v_z\u23a6  \u23a2v_z\u23a5            \u239f\n",
        "\u239c\u23a2           \u23a5                            \u23a2   \u23a5            \u239f\n",
        "\u239c\u23a3-a_y + v_\u0307y\u23a6                            \u23a2a\u2093 \u23a5            \u239f\n",
        "\u239c                                         \u23a2   \u23a5            \u239f\n",
        "\u239c                                         \u23a2a_y\u23a5            \u239f\n",
        "\u239c                                         \u23a2   \u23a5            \u239f\n",
        "\u239d                                         \u23a3a_z\u23a6            \u23a0"
       ]
      }
     ],
     "prompt_number": 5
    }
   ],
   "metadata": {}
  }
 ]
}