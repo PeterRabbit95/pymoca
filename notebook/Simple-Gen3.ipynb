{
 "metadata": {
  "name": ""
 },
 "nbformat": 3,
 "nbformat_minor": 0,
 "worksheets": [
  {
   "cells": [
    {
     "cell_type": "code",
     "collapsed": false,
     "input": [
      "import pymola.gen_sympy3 as compiler\n",
      "import pylab as pl\n",
      "%matplotlib inline\n",
      "%load_ext autoreload\n",
      "%autoreload 2"
     ],
     "language": "python",
     "metadata": {},
     "outputs": [],
     "prompt_number": 1
    },
    {
     "cell_type": "code",
     "collapsed": false,
     "input": [
      "%%file Ball.mo\n",
      "model Ball \"This is a ball model\"\n",
      "    Real x;\n",
      "equation\n",
      "end Ball;"
     ],
     "language": "python",
     "metadata": {},
     "outputs": [
      {
       "output_type": "stream",
       "stream": "stdout",
       "text": [
        "Overwriting Ball.mo\n"
       ]
      }
     ],
     "prompt_number": 2
    },
    {
     "cell_type": "code",
     "collapsed": false,
     "input": [
      "print compiler.generate(open('Ball.mo', 'r').read(), trace=False)"
     ],
     "language": "python",
     "metadata": {},
     "outputs": [
      {
       "output_type": "stream",
       "stream": "stdout",
       "text": [
        "\n",
        "class Ball :\n",
        "\"\"\"\n",
        "This is a ball model\n",
        "\"\"\"\n",
        "\n",
        "    __init__(self):\n",
        "        {'ext_func_call': None, 'comp_annotation': None, 'eq_section': [{'init': False, 'eqs': []}], 'language_spec': None, 'ext_annotation': None, 'elist': [{'constraining_clause': None, 'comment': None, 'redeclare': False, 'outer': False, 'inner': False, 'rclassdef': None, 'comp': None, 'rcomp': None, 'final': False, 'classdef': {'type_prefix': [], 'type_specifier': u'Real', 'array_subscripts': None, 'component_list': ['x']}}], 'alg_section': [], 'elist_protected': [], 'elist_public': []}\n",
        "        pass\n",
        "\n",
        "\n"
       ]
      }
     ],
     "prompt_number": 3
    }
   ],
   "metadata": {}
  }
 ]
}