{
 "metadata": {
  "name": ""
 },
 "nbformat": 3,
 "nbformat_minor": 0,
 "worksheets": [
  {
   "cells": [
    {
     "cell_type": "code",
     "collapsed": false,
     "input": [
      "from __future__ import print_function\n",
      "import pymola.gen_sympy3 as compiler\n",
      "import pylab as pl\n",
      "import sympy\n",
      "import sympy.physics.mechanics as mech\n",
      "sympy.init_printing()\n",
      "mech.init_vprinting()\n",
      "%matplotlib inline\n",
      "%load_ext autoreload\n",
      "%autoreload 2"
     ],
     "language": "python",
     "metadata": {},
     "outputs": [],
     "prompt_number": 1
    },
    {
     "cell_type": "code",
     "collapsed": false,
     "input": [
      "%%file Ball.mo\n",
      "model Ball \"This is a ball model\"\n",
      "    input Real f_x, f_y;\n",
      "    parameter Real c = 1;\n",
      "    output Real x;\n",
      "    output Real y;\n",
      "    output Real v_x;\n",
      "    output Real v_y;\n",
      "equation\n",
      "    der(x) = v_x;\n",
      "    der(y) = v_y;\n",
      "    der(v_x) = -c*x + f_x;\n",
      "    der(v_y) = -c*y + f_y;\n",
      "end Ball;"
     ],
     "language": "python",
     "metadata": {},
     "outputs": [
      {
       "output_type": "stream",
       "stream": "stdout",
       "text": [
        "Overwriting Ball.mo\n"
       ]
      }
     ],
     "prompt_number": 2
    },
    {
     "cell_type": "code",
     "collapsed": false,
     "input": [
      "with open('ball.py', 'w') as f:\n",
      "    f.write(compiler.generate(open('Ball.mo', 'r').read(), trace=False))"
     ],
     "language": "python",
     "metadata": {},
     "outputs": [],
     "prompt_number": 3
    },
    {
     "cell_type": "code",
     "collapsed": false,
     "input": [
      "#%%bash\n",
      "#cat ball.py"
     ],
     "language": "python",
     "metadata": {},
     "outputs": [],
     "prompt_number": 4
    },
    {
     "cell_type": "code",
     "collapsed": false,
     "input": [
      "import ball"
     ],
     "language": "python",
     "metadata": {},
     "outputs": [],
     "prompt_number": 5
    },
    {
     "cell_type": "code",
     "collapsed": false,
     "input": [
      "b = ball.Ball();\n",
      "res = compiler.process_ast(b.data)"
     ],
     "language": "python",
     "metadata": {},
     "outputs": [],
     "prompt_number": 8
    },
    {
     "cell_type": "code",
     "collapsed": false,
     "input": [
      "res['f'], res['a'], res['x'], res['y'], res['u'], res['p']"
     ],
     "language": "python",
     "metadata": {},
     "outputs": [
      {
       "latex": [
        "$$\\left ( \\left[\\begin{matrix}- v_{x} + \\dot{x}\\\\- v_{y} + \\dot{y}\\\\c x + f_{x} + \\dot{v}_{x}\\\\c y + f_{y} + \\dot{v}_{y}\\end{matrix}\\right], \\quad \\left[\\begin{matrix}\\end{matrix}\\right], \\quad \\left[\\begin{matrix}x\\\\y\\\\v_{x}\\\\v_{y}\\end{matrix}\\right], \\quad \\left[\\begin{matrix}x\\\\y\\\\v_{x}\\\\v_{y}\\end{matrix}\\right], \\quad \\left[\\begin{matrix}f_{x}\\\\f_{y}\\end{matrix}\\right], \\quad \\left[\\begin{matrix}c\\end{matrix}\\right]\\right )$$"
       ],
       "metadata": {},
       "output_type": "pyout",
       "png": "[encoded data removed]",
       "prompt_number": 14,
       "text": [
        "\u239b\u23a1    -v\u2093 + x\u0307    \u23a4, [], \u23a1 x \u23a4, \u23a1 x \u23a4, \u23a1f\u2093 \u23a4, [c]\u239e\n",
        "\u239c\u23a2                \u23a5      \u23a2   \u23a5  \u23a2   \u23a5  \u23a2   \u23a5     \u239f\n",
        "\u239c\u23a2   -v_y + y\u0307    \u23a5      \u23a2 y \u23a5  \u23a2 y \u23a5  \u23a3f_y\u23a6     \u239f\n",
        "\u239c\u23a2                \u23a5      \u23a2   \u23a5  \u23a2   \u23a5            \u239f\n",
        "\u239c\u23a2 c\u22c5x + f\u2093 + v\u2093\u0307 \u23a5      \u23a2v\u2093 \u23a5  \u23a2v\u2093 \u23a5            \u239f\n",
        "\u239c\u23a2                \u23a5      \u23a2   \u23a5  \u23a2   \u23a5            \u239f\n",
        "\u239d\u23a3c\u22c5y + f_y + v_\u0307y\u23a6      \u23a3v_y\u23a6  \u23a3v_y\u23a6            \u23a0"
       ]
      }
     ],
     "prompt_number": 14
    }
   ],
   "metadata": {}
  }
 ]
}