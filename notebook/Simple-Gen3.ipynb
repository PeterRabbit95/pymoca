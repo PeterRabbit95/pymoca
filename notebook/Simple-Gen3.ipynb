{
 "metadata": {
  "name": ""
 },
 "nbformat": 3,
 "nbformat_minor": 0,
 "worksheets": [
  {
   "cells": [
    {
     "cell_type": "code",
     "collapsed": false,
     "input": [
      "import pymola.gen_sympy3 as compiler\n",
      "import pylab as pl\n",
      "%matplotlib inline\n",
      "%load_ext autoreload\n",
      "%autoreload 2"
     ],
     "language": "python",
     "metadata": {},
     "outputs": [],
     "prompt_number": 1
    },
    {
     "cell_type": "code",
     "collapsed": false,
     "input": [
      "%%file Ball.mo\n",
      "model Ball \"This is a ball model\"\n",
      "    Real x;\n",
      "    Real y;\n",
      "equation\n",
      "    der(x) = 1;\n",
      "    der(y) = x;\n",
      "end Ball;"
     ],
     "language": "python",
     "metadata": {},
     "outputs": [
      {
       "output_type": "stream",
       "stream": "stdout",
       "text": [
        "Overwriting Ball.mo\n"
       ]
      }
     ],
     "prompt_number": 26
    },
    {
     "cell_type": "code",
     "collapsed": false,
     "input": [
      "with open('ball.py', 'w') as f:\n",
      "    f.write(compiler.generate(open('Ball.mo', 'r').read(), trace=False))"
     ],
     "language": "python",
     "metadata": {},
     "outputs": [],
     "prompt_number": 27
    },
    {
     "cell_type": "code",
     "collapsed": false,
     "input": [
      "%%bash\n",
      "cat ball.py"
     ],
     "language": "python",
     "metadata": {},
     "outputs": [
      {
       "output_type": "stream",
       "stream": "stdout",
       "text": [
        "\n",
        "class Ball :\n",
        "    \"\"\"\n",
        "    This is a ball model\n",
        "    \"\"\"\n",
        "\n",
        "    def __init__(self):\n",
        "        self.data = {'ext_func_call': None, 'comp_annotation': None, 'eq_section': [{'init': False, 'eqs': [\"['x.diff(self.t)'] - [u'1']\", \"['y.diff(self.t)'] - [[u'x']]\"]}], 'language_spec': None, 'ext_annotation': None, 'elist': [{'constraining_clause': None, 'comment': None, 'redeclare': False, 'outer': False, 'inner': False, 'rclassdef': None, 'comp': None, 'rcomp': None, 'final': False, 'classdef': {'type_prefix': [], 'type_specifier': u'Real', 'array_subscripts': None, 'component_list': ['x']}}, {'constraining_clause': None, 'comment': None, 'redeclare': False, 'outer': False, 'inner': False, 'rclassdef': None, 'comp': None, 'rcomp': None, 'final': False, 'classdef': {'type_prefix': [], 'type_specifier': u'Real', 'array_subscripts': None, 'component_list': ['y']}}], 'alg_section': [], 'elist_protected': [], 'elist_public': []}\n",
        "        pass\n",
        "\n"
       ]
      }
     ],
     "prompt_number": 31
    },
    {
     "cell_type": "code",
     "collapsed": false,
     "input": [
      "import ball"
     ],
     "language": "python",
     "metadata": {},
     "outputs": [],
     "prompt_number": 28
    },
    {
     "cell_type": "code",
     "collapsed": false,
     "input": [
      "b = ball.Ball()"
     ],
     "language": "python",
     "metadata": {},
     "outputs": [],
     "prompt_number": 29
    },
    {
     "cell_type": "code",
     "collapsed": false,
     "input": [
      "b.data"
     ],
     "language": "python",
     "metadata": {},
     "outputs": [
      {
       "metadata": {},
       "output_type": "pyout",
       "prompt_number": 30,
       "text": [
        "{'alg_section': [],\n",
        " 'comp_annotation': None,\n",
        " 'elist': [{'classdef': {'array_subscripts': None,\n",
        "    'component_list': ['x'],\n",
        "    'type_prefix': [],\n",
        "    'type_specifier': u'Real'},\n",
        "   'comment': None,\n",
        "   'comp': None,\n",
        "   'constraining_clause': None,\n",
        "   'final': False,\n",
        "   'inner': False,\n",
        "   'outer': False,\n",
        "   'rclassdef': None,\n",
        "   'rcomp': None,\n",
        "   'redeclare': False},\n",
        "  {'classdef': {'array_subscripts': None,\n",
        "    'component_list': ['y'],\n",
        "    'type_prefix': [],\n",
        "    'type_specifier': u'Real'},\n",
        "   'comment': None,\n",
        "   'comp': None,\n",
        "   'constraining_clause': None,\n",
        "   'final': False,\n",
        "   'inner': False,\n",
        "   'outer': False,\n",
        "   'rclassdef': None,\n",
        "   'rcomp': None,\n",
        "   'redeclare': False}],\n",
        " 'elist_protected': [],\n",
        " 'elist_public': [],\n",
        " 'eq_section': [{'eqs': [\"['x.diff(self.t)'] - [u'1']\",\n",
        "    \"['y.diff(self.t)'] - [[u'x']]\"],\n",
        "   'init': False}],\n",
        " 'ext_annotation': None,\n",
        " 'ext_func_call': None,\n",
        " 'language_spec': None}"
       ]
      }
     ],
     "prompt_number": 30
    }
   ],
   "metadata": {}
  }
 ]
}