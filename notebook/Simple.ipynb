{
 "cells": [
  {
   "cell_type": "markdown",
   "metadata": {},
   "source": [
    "This simple ipython notebook will get you started using pymola. Note that pymola is still under heavy development, so if you find a bug, please let me know or contribute a fix."
   ]
  },
  {
   "cell_type": "markdown",
   "metadata": {},
   "source": [
    "## Modelica Model Description"
   ]
  },
  {
   "cell_type": "code",
   "execution_count": 1,
   "metadata": {
    "collapsed": false
   },
   "outputs": [],
   "source": [
    "import pymola.gen_sympy\n",
    "import pylab as pl\n",
    "import sympy\n",
    "%load_ext autoreload\n",
    "%autoreload 2\n",
    "%matplotlib inline"
   ]
  },
  {
   "cell_type": "markdown",
   "metadata": {},
   "source": [
    "Here is a simple example modelica model."
   ]
  },
  {
   "cell_type": "code",
   "execution_count": 2,
   "metadata": {
    "collapsed": false
   },
   "outputs": [
    {
     "name": "stdout",
     "output_type": "stream",
     "text": [
      "Overwriting Test.mo\n"
     ]
    }
   ],
   "source": [
    "%%file Test.mo\n",
    "model Test\n",
    "    parameter Real c=10;\n",
    "    Real x(start=0), v_x(start=0);\n",
    "    Real y(start=0), v_y(start=0);\n",
    "equation\n",
    "    der(x) = v_x;\n",
    "    der(y) = v_y;\n",
    "    der(v_x) = -c*x;\n",
    "    der(v_y) = -c*y;\n",
    "end Test;"
   ]
  },
  {
   "cell_type": "markdown",
   "metadata": {},
   "source": [
    "## Compiling a Python Simulation from Modelica"
   ]
  },
  {
   "cell_type": "markdown",
   "metadata": {},
   "source": [
    "To generate a python simulation, we supply a modelica file and the name of the genereated python module."
   ]
  },
  {
   "cell_type": "code",
   "execution_count": 3,
   "metadata": {
    "collapsed": false
   },
   "outputs": [
    {
     "name": "stdout",
     "output_type": "stream",
     "text": [
      "dict {'dynamic_symbols': OrderedDict([(u'x', {'start': u'0'}), (u'v_x', {'start': u'0'}), (u'y', {'start': u'0'}), (u'v_y', {'start': u'0'})]), 'parameters': OrderedDict([(u'c', u'10')])}\n",
      "eq type: <class 'pymola.generated.ModelicaParser.Equation_simpleContext'>\n",
      "SIMPLE\n",
      "eq type: <class 'pymola.generated.ModelicaParser.Equation_simpleContext'>\n",
      "SIMPLE\n",
      "eq type: <class 'pymola.generated.ModelicaParser.Equation_simpleContext'>\n",
      "SIMPLE\n",
      "eq type: <class 'pymola.generated.ModelicaParser.Equation_simpleContext'>\n",
      "SIMPLE\n"
     ]
    }
   ],
   "source": [
    "pymola.gen_sympy.main(['Test.mo', 'pymola_test.py'])"
   ]
  },
  {
   "cell_type": "markdown",
   "metadata": {},
   "source": [
    "##  Generated Python Module"
   ]
  },
  {
   "cell_type": "markdown",
   "metadata": {},
   "source": [
    "The generated module includes a model class."
   ]
  },
  {
   "cell_type": "code",
   "execution_count": 4,
   "metadata": {
    "collapsed": false
   },
   "outputs": [],
   "source": [
    "import pymola_test"
   ]
  },
  {
   "cell_type": "code",
   "execution_count": 5,
   "metadata": {
    "collapsed": false
   },
   "outputs": [
    {
     "name": "stdout",
     "output_type": "stream",
     "text": [
      "x: Matrix([[x(t)], [v_x(t)], [y(t)], [v_y(t)]])\n",
      "f: Matrix([[v_x(t)], [-c*x(t)], [v_y(t)], [-c*y(t)]])\n",
      "p: [c]\n"
     ]
    }
   ],
   "source": [
    "test = pymola_test.Model()"
   ]
  },
  {
   "cell_type": "markdown",
   "metadata": {},
   "source": [
    "You can see the attributes of the class instance below."
   ]
  },
  {
   "cell_type": "code",
   "execution_count": 6,
   "metadata": {
    "collapsed": false
   },
   "outputs": [
    {
     "data": {
      "text/plain": [
       "{'eqs': [-v_x(t) + Derivative(x(t), t),\n",
       "  -v_y(t) + Derivative(y(t), t),\n",
       "  c*x(t) + Derivative(v_x(t), t),\n",
       "  c*y(t) + Derivative(v_y(t), t)],\n",
       " 'f': Matrix([\n",
       " [ v_x(t)],\n",
       " [-c*x(t)],\n",
       " [ v_y(t)],\n",
       " [-c*y(t)]]),\n",
       " 'f_lam': <function numpy.<lambda>>,\n",
       " 'p_dict': {'c': 10},\n",
       " 'p_vect': [c],\n",
       " 'sol': {Derivative(v_y(t), t): -c*y(t),\n",
       "  Derivative(v_x(t), t): -c*x(t),\n",
       "  Derivative(x(t), t): v_x(t),\n",
       "  Derivative(y(t), t): v_y(t)},\n",
       " 't': t,\n",
       " 'x': Matrix([\n",
       " [  x(t)],\n",
       " [v_x(t)],\n",
       " [  y(t)],\n",
       " [v_y(t)]]),\n",
       " 'x0_dict': {'v_x': 0, 'v_y': 0, 'x': 0, 'y': 0},\n",
       " 'x_dot': Matrix([\n",
       " [  Derivative(x(t), t)],\n",
       " [Derivative(v_x(t), t)],\n",
       " [  Derivative(y(t), t)],\n",
       " [Derivative(v_y(t), t)]])}"
      ]
     },
     "execution_count": 6,
     "metadata": {},
     "output_type": "execute_result"
    }
   ],
   "source": [
    "test.__dict__"
   ]
  },
  {
   "cell_type": "markdown",
   "metadata": {},
   "source": [
    "## Simulation"
   ]
  },
  {
   "cell_type": "markdown",
   "metadata": {},
   "source": [
    "Simulation is simple, and works well with matplotlib."
   ]
  },
  {
   "cell_type": "code",
   "execution_count": 7,
   "metadata": {
    "collapsed": false
   },
   "outputs": [],
   "source": [
    "test.x0_dict['x'] = 1\n",
    "test.x0_dict['y'] = 2"
   ]
  },
  {
   "cell_type": "code",
   "execution_count": 8,
   "metadata": {
    "collapsed": false
   },
   "outputs": [
    {
     "data": {
      "image/png": "[encoded data removed]",
      "text/plain": [
       "<matplotlib.figure.Figure at 0x7ff626be2610>"
      ]
     },
     "metadata": {},
     "output_type": "display_data"
    }
   ],
   "source": [
    "data = test.simulate();\n",
    "pl.plot(data['t'], data['x'])\n",
    "pl.xlabel('t')\n",
    "pl.ylabel('x')\n",
    "pl.grid()"
   ]
  },
  {
   "cell_type": "markdown",
   "metadata": {},
   "source": [
    "## Analytical Jacobians with Sympy"
   ]
  },
  {
   "cell_type": "code",
   "execution_count": 9,
   "metadata": {
    "collapsed": false
   },
   "outputs": [
    {
     "data": {
      "image/png": "[encoded data removed]",
      "text/latex": [
       "$$\\left[\\begin{matrix}x\\\\v_{x}\\\\y\\\\v_{y}\\end{matrix}\\right]$$"
      ],
      "text/plain": [
       "⎡ x ⎤\n",
       "⎢   ⎥\n",
       "⎢vₓ ⎥\n",
       "⎢   ⎥\n",
       "⎢ y ⎥\n",
       "⎢   ⎥\n",
       "⎣v_y⎦"
      ]
     },
     "execution_count": 9,
     "metadata": {},
     "output_type": "execute_result"
    }
   ],
   "source": [
    "test.x"
   ]
  },
  {
   "cell_type": "code",
   "execution_count": 10,
   "metadata": {
    "collapsed": false
   },
   "outputs": [
    {
     "data": {
      "image/png": "[encoded data removed]",
      "text/latex": [
       "$$\\left[\\begin{matrix}v_{x}\\\\- c x\\\\v_{y}\\\\- c y\\end{matrix}\\right]$$"
      ],
      "text/plain": [
       "⎡ vₓ ⎤\n",
       "⎢    ⎥\n",
       "⎢-c⋅x⎥\n",
       "⎢    ⎥\n",
       "⎢v_y ⎥\n",
       "⎢    ⎥\n",
       "⎣-c⋅y⎦"
      ]
     },
     "execution_count": 10,
     "metadata": {},
     "output_type": "execute_result"
    }
   ],
   "source": [
    "test.f"
   ]
  },
  {
   "cell_type": "code",
   "execution_count": 11,
   "metadata": {
    "collapsed": false
   },
   "outputs": [
    {
     "data": {
      "image/png": "[encoded data removed]",
      "text/latex": [
       "$$\\left[\\begin{matrix}0 & 1 & 0 & 0\\\\- c & 0 & 0 & 0\\\\0 & 0 & 0 & 1\\\\0 & 0 & - c & 0\\end{matrix}\\right]$$"
      ],
      "text/plain": [
       "⎡0   1  0   0⎤\n",
       "⎢            ⎥\n",
       "⎢-c  0  0   0⎥\n",
       "⎢            ⎥\n",
       "⎢0   0  0   1⎥\n",
       "⎢            ⎥\n",
       "⎣0   0  -c  0⎦"
      ]
     },
     "execution_count": 11,
     "metadata": {},
     "output_type": "execute_result"
    }
   ],
   "source": [
    "A = test.f.jacobian(test.x)\n",
    "A"
   ]
  },
  {
   "cell_type": "markdown",
   "metadata": {},
   "source": [
    "## Generated Python Source Code"
   ]
  },
  {
   "cell_type": "markdown",
   "metadata": {},
   "source": [
    "For the interested reader, the generated python source code for the model is shown below."
   ]
  },
  {
   "cell_type": "code",
   "execution_count": 28,
   "metadata": {
    "collapsed": false
   },
   "outputs": [
    {
     "name": "stdout",
     "output_type": "stream",
     "text": [
      "\r\n",
      "#############################################################################\r\n",
      "# Automatically generated by pymola\r\n",
      "\r\n",
      "from __future__ import print_function\r\n",
      "import sympy\r\n",
      "import sympy.physics.mechanics as mech\r\n",
      "sympy.init_printing()\r\n",
      "mech.init_vprinting()\r\n",
      "import scipy.integrate\r\n",
      "import pylab as pl\r\n",
      "\r\n",
      "#pylint: disable=too-few-public-methods, too-many-locals, invalid-name, no-member\r\n",
      "\r\n",
      "class Model(object):\r\n",
      "    \"\"\"\r\n",
      "    Modelica Model.\r\n",
      "    \"\"\"\r\n",
      "\r\n",
      "    def __init__(self):\r\n",
      "        \"\"\"\r\n",
      "        Constructor.\r\n",
      "        \"\"\"\r\n",
      "\r\n",
      "        self.t = sympy.symbols('t')\r\n",
      "\r\n",
      "        \r\n",
      "        # symbols\r\n",
      "        c = \\\r\n",
      "            sympy.symbols('c')\r\n",
      "        \r\n",
      "\r\n",
      "        # dynamic symbols\r\n",
      "        x, v = \\\r\n",
      "            mech.dynamicsymbols('x, v')\r\n",
      "\r\n",
      "        # parameters\r\n",
      "        self.p_dict = {\r\n",
      "            'c': 10,\r\n",
      "        }\r\n",
      "\r\n",
      "        # initial sate\r\n",
      "        self.x0_dict = {\r\n",
      "            'x': 1,\r\n",
      "            'v': 1,\r\n",
      "        }\r\n",
      "\r\n",
      "        # state space\r\n",
      "        self.x = sympy.Matrix([\r\n",
      "            x, v\r\n",
      "        ])\r\n",
      "\r\n",
      "        # equations\r\n",
      "        self.eqs = [\r\n",
      "            x.diff(self.t) - v,\r\n",
      "            v.diff(self.t) - (-(c) * x),\r\n",
      "            ]\r\n",
      "\r\n",
      "\r\n",
      "        # when equations\r\n",
      "\r\n",
      "\r\n",
      "\r\n",
      "        self.x = sympy.Matrix(self.x)\r\n",
      "        self.x_dot = self.x.diff(self.t)\r\n",
      "\r\n",
      "        self.sol = sympy.solve(self.eqs, self.x_dot)\r\n",
      "\r\n",
      "        self.f = sympy.Matrix([self.sol[xi] for xi in self.x_dot])\r\n",
      "        print('x:', self.x)\r\n",
      "        print('f:', self.f)\r\n",
      "\r\n",
      "        self.p_vect = [locals()[key] for key in self.p_dict.keys()]\r\n",
      "        self.p0 = [self.p_dict[key] for key in self.p_dict.keys()]\r\n",
      "\r\n",
      "        print('p:', self.p_vect)\r\n",
      "\r\n",
      "        self.f_lam = sympy.lambdify((self.t, self.x, self.p_vect), self.f)\r\n",
      "\r\n",
      "        self.x0 = [self.x0_dict[key] for key in self.x0_dict.keys()]\r\n",
      "\r\n",
      "    def simulate(self, tf=30, dt=0.001, show=False):\r\n",
      "        \"\"\"\r\n",
      "        Simulation function.\r\n",
      "        \"\"\"\r\n",
      "\r\n",
      "        sim = scipy.integrate.ode(self.f_lam)\r\n",
      "        sim.set_initial_value(self.x0, 0)\r\n",
      "        sim.set_f_params(self.p0)\r\n",
      "\r\n",
      "        data = {\r\n",
      "            'x': [],\r\n",
      "            't': [],\r\n",
      "        }\r\n",
      "\r\n",
      "        while  sim.t < tf:\r\n",
      "            sim.integrate(sim.t + dt)\r\n",
      "            t = sim.t\r\n",
      "\r\n",
      "            # TODO replace hardcoded when statement\r\n",
      "            # below\r\n",
      "            #velocity = sim.y[0]\r\n",
      "            #height = sim.y[1]\r\n",
      "            #c = self.p0[0]\r\n",
      "            #if velocity < 0 and height < 0:\r\n",
      "            #    velocity = -c*velocity\r\n",
      "            #    height = 0\r\n",
      "            #    sim.set_initial_value([velocity, height], t)\r\n",
      "\r\n",
      "            # data['x'] += [[velocity, height]]\r\n",
      "            data['x'] += [sim.y]\r\n",
      "            data['t'] += [t]\r\n",
      "\r\n",
      "        pl.plot(data['t'], data['x'])\r\n",
      "        if show:\r\n",
      "            pl.show()\r\n",
      "\r\n",
      "        return data\r\n",
      "\r\n",
      "if __name__ == \"__main__\":\r\n",
      "    model = Model()\r\n",
      "    model.simulate()\r\n",
      "\r\n",
      "#############################################################################\r\n"
     ]
    }
   ],
   "source": [
    "%cat Test.py"
   ]
  }
 ],
 "metadata": {
  "kernelspec": {
   "display_name": "Python 2",
   "language": "python",
   "name": "python2"
  },
  "language_info": {
   "codemirror_mode": {
    "name": "ipython",
    "version": 2
   },
   "file_extension": ".py",
   "mimetype": "text/x-python",
   "name": "python",
   "nbconvert_exporter": "python",
   "pygments_lexer": "ipython2",
   "version": "2.7.6"
  }
 },
 "nbformat": 4,
 "nbformat_minor": 0
}
